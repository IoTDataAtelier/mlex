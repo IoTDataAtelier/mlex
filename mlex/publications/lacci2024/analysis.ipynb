{
 "cells": [
  {
   "cell_type": "code",
   "execution_count": 1,
   "metadata": {},
   "outputs": [],
   "source": [
    "%load_ext autoreload\n",
    "%autoreload 2"
   ]
  },
  {
   "cell_type": "code",
   "execution_count": 2,
   "metadata": {},
   "outputs": [],
   "source": [
    "import os\n",
    "import sys\n",
    "sys.path.append(\"../..\")\n",
    "sys.path.append(\"../../..\")"
   ]
  },
  {
   "cell_type": "markdown",
   "metadata": {},
   "source": [
    "# 1. Open dataset"
   ]
  },
  {
   "cell_type": "code",
   "execution_count": 3,
   "metadata": {},
   "outputs": [],
   "source": [
    "import pandas as pd\n",
    "import numpy as np\n",
    "import matplotlib.pyplot as plt"
   ]
  },
  {
   "cell_type": "code",
   "execution_count": 4,
   "metadata": {},
   "outputs": [
    {
     "name": "stderr",
     "output_type": "stream",
     "text": [
      "/tmp/ipykernel_678/2782307085.py:2: DtypeWarning: Columns (11) have mixed types. Specify dtype option on import or set low_memory=False.\n",
      "  df = pd.read_csv(path, delimiter=';', decimal=',')\n"
     ]
    },
    {
     "data": {
      "text/html": [
       "<div>\n",
       "<style scoped>\n",
       "    .dataframe tbody tr th:only-of-type {\n",
       "        vertical-align: middle;\n",
       "    }\n",
       "\n",
       "    .dataframe tbody tr th {\n",
       "        vertical-align: top;\n",
       "    }\n",
       "\n",
       "    .dataframe thead th {\n",
       "        text-align: right;\n",
       "    }\n",
       "</style>\n",
       "<table border=\"1\" class=\"dataframe\">\n",
       "  <thead>\n",
       "    <tr style=\"text-align: right;\">\n",
       "      <th></th>\n",
       "      <th>NUMERO_CASO</th>\n",
       "      <th>NUMERO_BANCO</th>\n",
       "      <th>NOME_BANCO</th>\n",
       "      <th>NUMERO_AGENCIA</th>\n",
       "      <th>NUMERO_CONTA</th>\n",
       "      <th>TIPO</th>\n",
       "      <th>NOME_TITULAR</th>\n",
       "      <th>CPF_CNPJ_TITULAR</th>\n",
       "      <th>DESCRICAO_LANCAMENTO</th>\n",
       "      <th>CNAB</th>\n",
       "      <th>...</th>\n",
       "      <th>CPF_CNPJ_OD</th>\n",
       "      <th>NOME_PESSOA_OD</th>\n",
       "      <th>TIPO_PESSOA_OD</th>\n",
       "      <th>NUMERO_BANCO_OD</th>\n",
       "      <th>NUMERO_AGENCIA_OD</th>\n",
       "      <th>NUMERO_CONTA_OD</th>\n",
       "      <th>I-d</th>\n",
       "      <th>DIA_LANCAMENTO</th>\n",
       "      <th>MES_LANCAMENTO</th>\n",
       "      <th>ANO_LANCAMENTO</th>\n",
       "    </tr>\n",
       "  </thead>\n",
       "  <tbody>\n",
       "    <tr>\n",
       "      <th>0</th>\n",
       "      <td>EXTRATO-1.5-N5D3N8</td>\n",
       "      <td>H6D</td>\n",
       "      <td>BANCO BRADESCO S/A</td>\n",
       "      <td>9764</td>\n",
       "      <td>4077058</td>\n",
       "      <td>2</td>\n",
       "      <td>SIG. GIOELE CRISPI</td>\n",
       "      <td>ZM2260463766</td>\n",
       "      <td>RENDIMENTOS</td>\n",
       "      <td>205</td>\n",
       "      <td>...</td>\n",
       "      <td>NaN</td>\n",
       "      <td>ANGELINA PUGLISI</td>\n",
       "      <td>0</td>\n",
       "      <td>0</td>\n",
       "      <td>0.0</td>\n",
       "      <td>NaN</td>\n",
       "      <td>NaN</td>\n",
       "      <td>27</td>\n",
       "      <td>1</td>\n",
       "      <td>2015</td>\n",
       "    </tr>\n",
       "    <tr>\n",
       "      <th>1</th>\n",
       "      <td>EXTRATO-1.5-N5D3N8</td>\n",
       "      <td>H6D</td>\n",
       "      <td>BANCO BRADESCO S/A</td>\n",
       "      <td>9764</td>\n",
       "      <td>4077058</td>\n",
       "      <td>2</td>\n",
       "      <td>SIG. GIOELE CRISPI</td>\n",
       "      <td>ZM2260463766</td>\n",
       "      <td>RENDIMENTOS</td>\n",
       "      <td>205</td>\n",
       "      <td>...</td>\n",
       "      <td>NaN</td>\n",
       "      <td>ANGELINA PUGLISI</td>\n",
       "      <td>0</td>\n",
       "      <td>0</td>\n",
       "      <td>0.0</td>\n",
       "      <td>NaN</td>\n",
       "      <td>NaN</td>\n",
       "      <td>27</td>\n",
       "      <td>2</td>\n",
       "      <td>2015</td>\n",
       "    </tr>\n",
       "    <tr>\n",
       "      <th>2</th>\n",
       "      <td>EXTRATO-1.5-N5D3N8</td>\n",
       "      <td>H6D</td>\n",
       "      <td>BANCO BRADESCO S/A</td>\n",
       "      <td>9764</td>\n",
       "      <td>4077058</td>\n",
       "      <td>2</td>\n",
       "      <td>SIG. GIOELE CRISPI</td>\n",
       "      <td>ZM2260463766</td>\n",
       "      <td>RENDIMENTOS</td>\n",
       "      <td>205</td>\n",
       "      <td>...</td>\n",
       "      <td>NaN</td>\n",
       "      <td>ANGELINA PUGLISI</td>\n",
       "      <td>0</td>\n",
       "      <td>0</td>\n",
       "      <td>0.0</td>\n",
       "      <td>NaN</td>\n",
       "      <td>NaN</td>\n",
       "      <td>27</td>\n",
       "      <td>3</td>\n",
       "      <td>2015</td>\n",
       "    </tr>\n",
       "    <tr>\n",
       "      <th>3</th>\n",
       "      <td>EXTRATO-1.5-N5D3N8</td>\n",
       "      <td>H6D</td>\n",
       "      <td>BANCO BRADESCO S/A</td>\n",
       "      <td>9764</td>\n",
       "      <td>4077058</td>\n",
       "      <td>2</td>\n",
       "      <td>SIG. GIOELE CRISPI</td>\n",
       "      <td>ZM2260463766</td>\n",
       "      <td>RENDIMENTOS</td>\n",
       "      <td>205</td>\n",
       "      <td>...</td>\n",
       "      <td>NaN</td>\n",
       "      <td>ANGELINA PUGLISI</td>\n",
       "      <td>0</td>\n",
       "      <td>0</td>\n",
       "      <td>0.0</td>\n",
       "      <td>NaN</td>\n",
       "      <td>NaN</td>\n",
       "      <td>27</td>\n",
       "      <td>4</td>\n",
       "      <td>2015</td>\n",
       "    </tr>\n",
       "    <tr>\n",
       "      <th>4</th>\n",
       "      <td>EXTRATO-1.5-N5D3N8</td>\n",
       "      <td>H6D</td>\n",
       "      <td>BANCO BRADESCO S/A</td>\n",
       "      <td>9764</td>\n",
       "      <td>4077058</td>\n",
       "      <td>2</td>\n",
       "      <td>SIG. GIOELE CRISPI</td>\n",
       "      <td>ZM2260463766</td>\n",
       "      <td>RENDIMENTOS</td>\n",
       "      <td>205</td>\n",
       "      <td>...</td>\n",
       "      <td>NaN</td>\n",
       "      <td>ANGELINA PUGLISI</td>\n",
       "      <td>0</td>\n",
       "      <td>0</td>\n",
       "      <td>0.0</td>\n",
       "      <td>NaN</td>\n",
       "      <td>NaN</td>\n",
       "      <td>27</td>\n",
       "      <td>5</td>\n",
       "      <td>2015</td>\n",
       "    </tr>\n",
       "    <tr>\n",
       "      <th>...</th>\n",
       "      <td>...</td>\n",
       "      <td>...</td>\n",
       "      <td>...</td>\n",
       "      <td>...</td>\n",
       "      <td>...</td>\n",
       "      <td>...</td>\n",
       "      <td>...</td>\n",
       "      <td>...</td>\n",
       "      <td>...</td>\n",
       "      <td>...</td>\n",
       "      <td>...</td>\n",
       "      <td>...</td>\n",
       "      <td>...</td>\n",
       "      <td>...</td>\n",
       "      <td>...</td>\n",
       "      <td>...</td>\n",
       "      <td>...</td>\n",
       "      <td>...</td>\n",
       "      <td>...</td>\n",
       "      <td>...</td>\n",
       "      <td>...</td>\n",
       "    </tr>\n",
       "    <tr>\n",
       "      <th>1048569</th>\n",
       "      <td>EXTRATO-1.5-N5D3N8</td>\n",
       "      <td>E9P</td>\n",
       "      <td>Nu Pagamentos S.A - InstituiÂ¿Â¿o de Pagamento</td>\n",
       "      <td>657</td>\n",
       "      <td>7961787</td>\n",
       "      <td>4</td>\n",
       "      <td>SIG.RA CASSANDRA MERCANTINI</td>\n",
       "      <td>MK5063346127</td>\n",
       "      <td>LANÃAMENTO AVISADO</td>\n",
       "      <td>205</td>\n",
       "      <td>...</td>\n",
       "      <td>NaN</td>\n",
       "      <td>NaN</td>\n",
       "      <td>0</td>\n",
       "      <td>0</td>\n",
       "      <td>0.0</td>\n",
       "      <td>NaN</td>\n",
       "      <td>NaN</td>\n",
       "      <td>21</td>\n",
       "      <td>5</td>\n",
       "      <td>2021</td>\n",
       "    </tr>\n",
       "    <tr>\n",
       "      <th>1048570</th>\n",
       "      <td>EXTRATO-1.5-N5D3N8</td>\n",
       "      <td>E9P</td>\n",
       "      <td>Nu Pagamentos S.A - InstituiÂ¿Â¿o de Pagamento</td>\n",
       "      <td>657</td>\n",
       "      <td>7961787</td>\n",
       "      <td>4</td>\n",
       "      <td>SIG.RA CASSANDRA MERCANTINI</td>\n",
       "      <td>MK5063346127</td>\n",
       "      <td>PAGAMENTOS DIVERSOS</td>\n",
       "      <td>125</td>\n",
       "      <td>...</td>\n",
       "      <td>NaN</td>\n",
       "      <td>NaN</td>\n",
       "      <td>0</td>\n",
       "      <td>0</td>\n",
       "      <td>0.0</td>\n",
       "      <td>NaN</td>\n",
       "      <td>NaN</td>\n",
       "      <td>21</td>\n",
       "      <td>5</td>\n",
       "      <td>2021</td>\n",
       "    </tr>\n",
       "    <tr>\n",
       "      <th>1048571</th>\n",
       "      <td>EXTRATO-1.5-N5D3N8</td>\n",
       "      <td>E9P</td>\n",
       "      <td>Nu Pagamentos S.A - InstituiÂ¿Â¿o de Pagamento</td>\n",
       "      <td>657</td>\n",
       "      <td>7961787</td>\n",
       "      <td>4</td>\n",
       "      <td>SIG.RA CASSANDRA MERCANTINI</td>\n",
       "      <td>MK5063346127</td>\n",
       "      <td>PAGAMENTOS DIVERSOS</td>\n",
       "      <td>125</td>\n",
       "      <td>...</td>\n",
       "      <td>NaN</td>\n",
       "      <td>NaN</td>\n",
       "      <td>0</td>\n",
       "      <td>0</td>\n",
       "      <td>0.0</td>\n",
       "      <td>NaN</td>\n",
       "      <td>NaN</td>\n",
       "      <td>21</td>\n",
       "      <td>5</td>\n",
       "      <td>2021</td>\n",
       "    </tr>\n",
       "    <tr>\n",
       "      <th>1048572</th>\n",
       "      <td>EXTRATO-1.5-N5D3N8</td>\n",
       "      <td>E9P</td>\n",
       "      <td>Nu Pagamentos S.A - InstituiÂ¿Â¿o de Pagamento</td>\n",
       "      <td>657</td>\n",
       "      <td>7961787</td>\n",
       "      <td>4</td>\n",
       "      <td>SIG.RA CASSANDRA MERCANTINI</td>\n",
       "      <td>MK5063346127</td>\n",
       "      <td>TRANSFERENCIA INTERBANCARIA</td>\n",
       "      <td>120</td>\n",
       "      <td>...</td>\n",
       "      <td>NB1312471884</td>\n",
       "      <td>SOLE GRIFEO</td>\n",
       "      <td>1</td>\n",
       "      <td>K9S</td>\n",
       "      <td>9796.0</td>\n",
       "      <td>8387157.0</td>\n",
       "      <td>NaN</td>\n",
       "      <td>21</td>\n",
       "      <td>5</td>\n",
       "      <td>2021</td>\n",
       "    </tr>\n",
       "    <tr>\n",
       "      <th>1048573</th>\n",
       "      <td>EXTRATO-1.5-N5D3N8</td>\n",
       "      <td>E9P</td>\n",
       "      <td>Nu Pagamentos S.A - InstituiÂ¿Â¿o de Pagamento</td>\n",
       "      <td>657</td>\n",
       "      <td>7961787</td>\n",
       "      <td>4</td>\n",
       "      <td>SIG.RA CASSANDRA MERCANTINI</td>\n",
       "      <td>MK5063346127</td>\n",
       "      <td>TRANSFERENCIA INTERBANCARIA</td>\n",
       "      <td>120</td>\n",
       "      <td>...</td>\n",
       "      <td>NB1312471884</td>\n",
       "      <td>SOLE GRIFEO</td>\n",
       "      <td>1</td>\n",
       "      <td>K9S</td>\n",
       "      <td>9796.0</td>\n",
       "      <td>8387157.0</td>\n",
       "      <td>NaN</td>\n",
       "      <td>21</td>\n",
       "      <td>5</td>\n",
       "      <td>2021</td>\n",
       "    </tr>\n",
       "  </tbody>\n",
       "</table>\n",
       "<p>1048574 rows × 26 columns</p>\n",
       "</div>"
      ],
      "text/plain": [
       "                NUMERO_CASO NUMERO_BANCO  \\\n",
       "0        EXTRATO-1.5-N5D3N8          H6D   \n",
       "1        EXTRATO-1.5-N5D3N8          H6D   \n",
       "2        EXTRATO-1.5-N5D3N8          H6D   \n",
       "3        EXTRATO-1.5-N5D3N8          H6D   \n",
       "4        EXTRATO-1.5-N5D3N8          H6D   \n",
       "...                     ...          ...   \n",
       "1048569  EXTRATO-1.5-N5D3N8          E9P   \n",
       "1048570  EXTRATO-1.5-N5D3N8          E9P   \n",
       "1048571  EXTRATO-1.5-N5D3N8          E9P   \n",
       "1048572  EXTRATO-1.5-N5D3N8          E9P   \n",
       "1048573  EXTRATO-1.5-N5D3N8          E9P   \n",
       "\n",
       "                                             NOME_BANCO  NUMERO_AGENCIA  \\\n",
       "0                                    BANCO BRADESCO S/A            9764   \n",
       "1                                    BANCO BRADESCO S/A            9764   \n",
       "2                                    BANCO BRADESCO S/A            9764   \n",
       "3                                    BANCO BRADESCO S/A            9764   \n",
       "4                                    BANCO BRADESCO S/A            9764   \n",
       "...                                                 ...             ...   \n",
       "1048569  Nu Pagamentos S.A - InstituiÂ¿Â¿o de Pagamento             657   \n",
       "1048570  Nu Pagamentos S.A - InstituiÂ¿Â¿o de Pagamento             657   \n",
       "1048571  Nu Pagamentos S.A - InstituiÂ¿Â¿o de Pagamento             657   \n",
       "1048572  Nu Pagamentos S.A - InstituiÂ¿Â¿o de Pagamento             657   \n",
       "1048573  Nu Pagamentos S.A - InstituiÂ¿Â¿o de Pagamento             657   \n",
       "\n",
       "         NUMERO_CONTA  TIPO                 NOME_TITULAR CPF_CNPJ_TITULAR  \\\n",
       "0             4077058     2           SIG. GIOELE CRISPI     ZM2260463766   \n",
       "1             4077058     2           SIG. GIOELE CRISPI     ZM2260463766   \n",
       "2             4077058     2           SIG. GIOELE CRISPI     ZM2260463766   \n",
       "3             4077058     2           SIG. GIOELE CRISPI     ZM2260463766   \n",
       "4             4077058     2           SIG. GIOELE CRISPI     ZM2260463766   \n",
       "...               ...   ...                          ...              ...   \n",
       "1048569       7961787     4  SIG.RA CASSANDRA MERCANTINI     MK5063346127   \n",
       "1048570       7961787     4  SIG.RA CASSANDRA MERCANTINI     MK5063346127   \n",
       "1048571       7961787     4  SIG.RA CASSANDRA MERCANTINI     MK5063346127   \n",
       "1048572       7961787     4  SIG.RA CASSANDRA MERCANTINI     MK5063346127   \n",
       "1048573       7961787     4  SIG.RA CASSANDRA MERCANTINI     MK5063346127   \n",
       "\n",
       "                DESCRICAO_LANCAMENTO  CNAB  ...   CPF_CNPJ_OD  \\\n",
       "0                        RENDIMENTOS   205  ...           NaN   \n",
       "1                        RENDIMENTOS   205  ...           NaN   \n",
       "2                        RENDIMENTOS   205  ...           NaN   \n",
       "3                        RENDIMENTOS   205  ...           NaN   \n",
       "4                        RENDIMENTOS   205  ...           NaN   \n",
       "...                              ...   ...  ...           ...   \n",
       "1048569          LANÃAMENTO AVISADO   205  ...           NaN   \n",
       "1048570          PAGAMENTOS DIVERSOS   125  ...           NaN   \n",
       "1048571          PAGAMENTOS DIVERSOS   125  ...           NaN   \n",
       "1048572  TRANSFERENCIA INTERBANCARIA   120  ...  NB1312471884   \n",
       "1048573  TRANSFERENCIA INTERBANCARIA   120  ...  NB1312471884   \n",
       "\n",
       "           NOME_PESSOA_OD  TIPO_PESSOA_OD NUMERO_BANCO_OD  NUMERO_AGENCIA_OD  \\\n",
       "0        ANGELINA PUGLISI               0               0                0.0   \n",
       "1        ANGELINA PUGLISI               0               0                0.0   \n",
       "2        ANGELINA PUGLISI               0               0                0.0   \n",
       "3        ANGELINA PUGLISI               0               0                0.0   \n",
       "4        ANGELINA PUGLISI               0               0                0.0   \n",
       "...                   ...             ...             ...                ...   \n",
       "1048569               NaN               0               0                0.0   \n",
       "1048570               NaN               0               0                0.0   \n",
       "1048571               NaN               0               0                0.0   \n",
       "1048572       SOLE GRIFEO               1             K9S             9796.0   \n",
       "1048573       SOLE GRIFEO               1             K9S             9796.0   \n",
       "\n",
       "        NUMERO_CONTA_OD I-d DIA_LANCAMENTO  MES_LANCAMENTO ANO_LANCAMENTO  \n",
       "0                   NaN NaN             27               1           2015  \n",
       "1                   NaN NaN             27               2           2015  \n",
       "2                   NaN NaN             27               3           2015  \n",
       "3                   NaN NaN             27               4           2015  \n",
       "4                   NaN NaN             27               5           2015  \n",
       "...                 ...  ..            ...             ...            ...  \n",
       "1048569             NaN NaN             21               5           2021  \n",
       "1048570             NaN NaN             21               5           2021  \n",
       "1048571             NaN NaN             21               5           2021  \n",
       "1048572       8387157.0 NaN             21               5           2021  \n",
       "1048573       8387157.0 NaN             21               5           2021  \n",
       "\n",
       "[1048574 rows x 26 columns]"
      ]
     },
     "execution_count": 4,
     "metadata": {},
     "output_type": "execute_result"
    }
   ],
   "source": [
    "path = \"/data/pcpe_02.csv\"\n",
    "df = pd.read_csv(path, delimiter=';', decimal=',')\n",
    "df"
   ]
  },
  {
   "cell_type": "code",
   "execution_count": 5,
   "metadata": {},
   "outputs": [],
   "source": [
    "from publications.lacci2024.analysis import LacciAnalysis\n"
   ]
  },
  {
   "cell_type": "markdown",
   "metadata": {},
   "source": [
    "# 2. Descriptive Statistics"
   ]
  },
  {
   "cell_type": "code",
   "execution_count": 6,
   "metadata": {},
   "outputs": [
    {
     "name": "stdout",
     "output_type": "stream",
     "text": [
      "\\begin{tabular}{lrr}\n",
      "\\toprule\n",
      "Typology & I-d & None \\\\\n",
      "\\midrule\n",
      "Accounts & 17 & 1667 \\\\\n",
      "Individuals/Companies & 13 & 304 \\\\\n",
      "Transactions & 17725 & 1030849 \\\\\n",
      "\\bottomrule\n",
      "\\end{tabular}\n",
      "\n"
     ]
    }
   ],
   "source": [
    "lacci_analysis = LacciAnalysis(df) \n",
    "df_descriptive = lacci_analysis.get_results_descriptive()\n",
    "print(df_descriptive.to_latex())\n"
   ]
  },
  {
   "cell_type": "markdown",
   "metadata": {},
   "source": [
    "# 3. Data Spliting"
   ]
  },
  {
   "cell_type": "code",
   "execution_count": 7,
   "metadata": {},
   "outputs": [
    {
     "name": "stderr",
     "output_type": "stream",
     "text": [
      "2024-08-29 16:50:05.480317: I tensorflow/core/platform/cpu_feature_guard.cc:182] This TensorFlow binary is optimized to use available CPU instructions in performance-critical operations.\n",
      "To enable the following instructions: AVX2 FMA, in other operations, rebuild TensorFlow with the appropriate compiler flags.\n"
     ]
    }
   ],
   "source": [
    "from mlex import PastFutureSplit\n",
    "split = PastFutureSplit()\n",
    "X, y = lacci_analysis.get_X_y()\n",
    "X_train, X_test, y_train, y_test = split.train_test_split(X, y)"
   ]
  },
  {
   "cell_type": "markdown",
   "metadata": {},
   "source": [
    "# 4. Model Training"
   ]
  },
  {
   "cell_type": "code",
   "execution_count": 8,
   "metadata": {},
   "outputs": [],
   "source": [
    "from mlex import (\n",
    "    SimplePipeline,\n",
    "    SimpleRNNModel,\n",
    "    SimpleLSTMModel,\n",
    "    SimpleGruModel,\n",
    ")"
   ]
  },
  {
   "cell_type": "code",
   "execution_count": 9,
   "metadata": {},
   "outputs": [],
   "source": [
    "from mlex import (\n",
    "    SequenceTransfomer\n",
    ")"
   ]
  },
  {
   "cell_type": "code",
   "execution_count": 10,
   "metadata": {},
   "outputs": [
    {
     "name": "stderr",
     "output_type": "stream",
     "text": [
      "2024-08-29 16:50:26.229953: I tensorflow/compiler/xla/stream_executor/cuda/cuda_gpu_executor.cc:996] successful NUMA node read from SysFS had negative value (-1), but there must be at least one NUMA node, so returning NUMA node zero. See more at https://github.com/torvalds/linux/blob/v6.0/Documentation/ABI/testing/sysfs-bus-pci#L344-L355\n",
      "2024-08-29 16:50:26.230225: I tensorflow/compiler/xla/stream_executor/cuda/cuda_gpu_executor.cc:996] successful NUMA node read from SysFS had negative value (-1), but there must be at least one NUMA node, so returning NUMA node zero. See more at https://github.com/torvalds/linux/blob/v6.0/Documentation/ABI/testing/sysfs-bus-pci#L344-L355\n",
      "2024-08-29 16:50:26.233685: I tensorflow/compiler/xla/stream_executor/cuda/cuda_gpu_executor.cc:996] successful NUMA node read from SysFS had negative value (-1), but there must be at least one NUMA node, so returning NUMA node zero. See more at https://github.com/torvalds/linux/blob/v6.0/Documentation/ABI/testing/sysfs-bus-pci#L344-L355\n",
      "2024-08-29 16:50:26.233970: I tensorflow/compiler/xla/stream_executor/cuda/cuda_gpu_executor.cc:996] successful NUMA node read from SysFS had negative value (-1), but there must be at least one NUMA node, so returning NUMA node zero. See more at https://github.com/torvalds/linux/blob/v6.0/Documentation/ABI/testing/sysfs-bus-pci#L344-L355\n",
      "2024-08-29 16:50:26.234221: I tensorflow/compiler/xla/stream_executor/cuda/cuda_gpu_executor.cc:996] successful NUMA node read from SysFS had negative value (-1), but there must be at least one NUMA node, so returning NUMA node zero. See more at https://github.com/torvalds/linux/blob/v6.0/Documentation/ABI/testing/sysfs-bus-pci#L344-L355\n",
      "2024-08-29 16:50:26.234469: I tensorflow/compiler/xla/stream_executor/cuda/cuda_gpu_executor.cc:996] successful NUMA node read from SysFS had negative value (-1), but there must be at least one NUMA node, so returning NUMA node zero. See more at https://github.com/torvalds/linux/blob/v6.0/Documentation/ABI/testing/sysfs-bus-pci#L344-L355\n",
      "2024-08-29 16:50:26.432039: I tensorflow/compiler/xla/stream_executor/cuda/cuda_gpu_executor.cc:996] successful NUMA node read from SysFS had negative value (-1), but there must be at least one NUMA node, so returning NUMA node zero. See more at https://github.com/torvalds/linux/blob/v6.0/Documentation/ABI/testing/sysfs-bus-pci#L344-L355\n",
      "2024-08-29 16:50:26.432285: I tensorflow/compiler/xla/stream_executor/cuda/cuda_gpu_executor.cc:996] successful NUMA node read from SysFS had negative value (-1), but there must be at least one NUMA node, so returning NUMA node zero. See more at https://github.com/torvalds/linux/blob/v6.0/Documentation/ABI/testing/sysfs-bus-pci#L344-L355\n",
      "2024-08-29 16:50:26.432493: I tensorflow/compiler/xla/stream_executor/cuda/cuda_gpu_executor.cc:996] successful NUMA node read from SysFS had negative value (-1), but there must be at least one NUMA node, so returning NUMA node zero. See more at https://github.com/torvalds/linux/blob/v6.0/Documentation/ABI/testing/sysfs-bus-pci#L344-L355\n",
      "2024-08-29 16:50:26.432691: I tensorflow/compiler/xla/stream_executor/cuda/cuda_gpu_executor.cc:996] successful NUMA node read from SysFS had negative value (-1), but there must be at least one NUMA node, so returning NUMA node zero. See more at https://github.com/torvalds/linux/blob/v6.0/Documentation/ABI/testing/sysfs-bus-pci#L344-L355\n",
      "2024-08-29 16:50:26.432888: I tensorflow/compiler/xla/stream_executor/cuda/cuda_gpu_executor.cc:996] successful NUMA node read from SysFS had negative value (-1), but there must be at least one NUMA node, so returning NUMA node zero. See more at https://github.com/torvalds/linux/blob/v6.0/Documentation/ABI/testing/sysfs-bus-pci#L344-L355\n",
      "2024-08-29 16:50:26.433085: I tensorflow/compiler/xla/stream_executor/cuda/cuda_gpu_executor.cc:996] successful NUMA node read from SysFS had negative value (-1), but there must be at least one NUMA node, so returning NUMA node zero. See more at https://github.com/torvalds/linux/blob/v6.0/Documentation/ABI/testing/sysfs-bus-pci#L344-L355\n",
      "2024-08-29 16:50:27.191051: I tensorflow/compiler/xla/stream_executor/cuda/cuda_gpu_executor.cc:996] successful NUMA node read from SysFS had negative value (-1), but there must be at least one NUMA node, so returning NUMA node zero. See more at https://github.com/torvalds/linux/blob/v6.0/Documentation/ABI/testing/sysfs-bus-pci#L344-L355\n",
      "2024-08-29 16:50:27.191317: I tensorflow/compiler/xla/stream_executor/cuda/cuda_gpu_executor.cc:996] successful NUMA node read from SysFS had negative value (-1), but there must be at least one NUMA node, so returning NUMA node zero. See more at https://github.com/torvalds/linux/blob/v6.0/Documentation/ABI/testing/sysfs-bus-pci#L344-L355\n",
      "2024-08-29 16:50:27.191538: I tensorflow/compiler/xla/stream_executor/cuda/cuda_gpu_executor.cc:996] successful NUMA node read from SysFS had negative value (-1), but there must be at least one NUMA node, so returning NUMA node zero. See more at https://github.com/torvalds/linux/blob/v6.0/Documentation/ABI/testing/sysfs-bus-pci#L344-L355\n",
      "2024-08-29 16:50:27.191744: I tensorflow/compiler/xla/stream_executor/cuda/cuda_gpu_executor.cc:996] successful NUMA node read from SysFS had negative value (-1), but there must be at least one NUMA node, so returning NUMA node zero. See more at https://github.com/torvalds/linux/blob/v6.0/Documentation/ABI/testing/sysfs-bus-pci#L344-L355\n",
      "2024-08-29 16:50:27.191941: I tensorflow/compiler/xla/stream_executor/cuda/cuda_gpu_executor.cc:996] successful NUMA node read from SysFS had negative value (-1), but there must be at least one NUMA node, so returning NUMA node zero. See more at https://github.com/torvalds/linux/blob/v6.0/Documentation/ABI/testing/sysfs-bus-pci#L344-L355\n",
      "2024-08-29 16:50:27.192122: I tensorflow/core/common_runtime/gpu/gpu_device.cc:1635] Created device /job:localhost/replica:0/task:0/device:GPU:0 with 6591 MB memory:  -> device: 0, name: NVIDIA GeForce RTX 2080 SUPER, pci bus id: 0000:0a:00.0, compute capability: 7.5\n",
      "2024-08-29 16:50:27.192396: I tensorflow/compiler/xla/stream_executor/cuda/cuda_gpu_executor.cc:996] successful NUMA node read from SysFS had negative value (-1), but there must be at least one NUMA node, so returning NUMA node zero. See more at https://github.com/torvalds/linux/blob/v6.0/Documentation/ABI/testing/sysfs-bus-pci#L344-L355\n",
      "2024-08-29 16:50:27.192570: I tensorflow/core/common_runtime/gpu/gpu_device.cc:1635] Created device /job:localhost/replica:0/task:0/device:GPU:1 with 6592 MB memory:  -> device: 1, name: NVIDIA GeForce RTX 2080 SUPER, pci bus id: 0000:0b:00.0, compute capability: 7.5\n"
     ]
    }
   ],
   "source": [
    "import tensorflow as tf\n",
    "sequence_length = 50\n",
    "sequence = SequenceTransfomer(sequence_length=sequence_length)\n",
    "data_test = sequence.transform(X_test, y_test)\n",
    "\n",
    "data_train_full = sequence.transform(X_train, y_train)\n",
    "\n",
    "N = len(data_train_full)\n",
    "train_size = int(0.7 * N)\n",
    "val_size = int(0.3 * N)\n",
    "\n",
    "data_train = data_train_full.take(train_size)\n",
    "data_val = data_train_full.skip(train_size)\n"
   ]
  },
  {
   "cell_type": "code",
   "execution_count": 11,
   "metadata": {},
   "outputs": [
    {
     "name": "stdout",
     "output_type": "stream",
     "text": [
      "Epoch 1/30\n"
     ]
    },
    {
     "name": "stderr",
     "output_type": "stream",
     "text": [
      "2024-08-29 16:50:28.121931: I tensorflow/core/common_runtime/executor.cc:1197] [/device:CPU:0] (DEBUG INFO) Executor start aborting (this does not indicate an error and you can ignore this message): INVALID_ARGUMENT: You must feed a value for placeholder tensor 'Placeholder/_8' with dtype int32 and shape [524238]\n",
      "\t [[{{node Placeholder/_8}}]]\n",
      "2024-08-29 16:50:28.122317: I tensorflow/core/common_runtime/executor.cc:1197] [/device:CPU:0] (DEBUG INFO) Executor start aborting (this does not indicate an error and you can ignore this message): INVALID_ARGUMENT: You must feed a value for placeholder tensor 'Placeholder/_20' with dtype double and shape [524287,1]\n",
      "\t [[{{node Placeholder/_20}}]]\n",
      "2024-08-29 16:50:29.513757: I tensorflow/compiler/xla/service/service.cc:169] XLA service 0x574c4e40 initialized for platform CUDA (this does not guarantee that XLA will be used). Devices:\n",
      "2024-08-29 16:50:29.513805: I tensorflow/compiler/xla/service/service.cc:177]   StreamExecutor device (0): NVIDIA GeForce RTX 2080 SUPER, Compute Capability 7.5\n",
      "2024-08-29 16:50:29.513813: I tensorflow/compiler/xla/service/service.cc:177]   StreamExecutor device (1): NVIDIA GeForce RTX 2080 SUPER, Compute Capability 7.5\n",
      "2024-08-29 16:50:29.518682: I tensorflow/compiler/mlir/tensorflow/utils/dump_mlir_util.cc:269] disabling MLIR crash reproducer, set env var `MLIR_CRASH_REPRODUCER_DIRECTORY` to enable.\n",
      "2024-08-29 16:50:29.647104: I tensorflow/compiler/xla/stream_executor/cuda/cuda_dnn.cc:424] Loaded cuDNN version 8600\n",
      "2024-08-29 16:50:29.685562: I tensorflow/tsl/platform/default/subprocess.cc:304] Start cannot spawn child process: No such file or directory\n",
      "2024-08-29 16:50:29.757339: I ./tensorflow/compiler/jit/device_compiler.h:180] Compiled cluster using XLA!  This line is logged at most once for the lifetime of the process.\n"
     ]
    },
    {
     "name": "stdout",
     "output_type": "stream",
     "text": [
      "11467/11468 [============================>.] - ETA: 0s - loss: 0.0693 - acc: 0.9910 - auc: 0.8852"
     ]
    },
    {
     "name": "stderr",
     "output_type": "stream",
     "text": [
      "2024-08-29 17:00:58.783028: I tensorflow/core/common_runtime/executor.cc:1197] [/device:CPU:0] (DEBUG INFO) Executor start aborting (this does not indicate an error and you can ignore this message): INVALID_ARGUMENT: You must feed a value for placeholder tensor 'Placeholder/_20' with dtype double and shape [524287,1]\n",
      "\t [[{{node Placeholder/_20}}]]\n",
      "2024-08-29 17:00:58.783426: I tensorflow/core/common_runtime/executor.cc:1197] [/device:CPU:0] (DEBUG INFO) Executor start aborting (this does not indicate an error and you can ignore this message): INVALID_ARGUMENT: You must feed a value for placeholder tensor 'Placeholder/_13' with dtype int32\n",
      "\t [[{{node Placeholder/_13}}]]\n"
     ]
    },
    {
     "name": "stdout",
     "output_type": "stream",
     "text": [
      "11468/11468 [==============================] - 697s 61ms/step - loss: 0.0693 - acc: 0.9910 - auc: 0.8852 - val_loss: 4.4769 - val_acc: 0.1091 - val_auc: 0.4914\n",
      "Epoch 2/30\n",
      "11468/11468 [==============================] - 699s 61ms/step - loss: 0.0618 - acc: 0.9917 - auc: 0.8891 - val_loss: 7.6077 - val_acc: 0.0650 - val_auc: 0.5402\n",
      "Epoch 3/30\n",
      "11468/11468 [==============================] - 701s 61ms/step - loss: 0.0554 - acc: 0.9921 - auc: 0.9074 - val_loss: 8.0439 - val_acc: 0.0773 - val_auc: 0.5502\n",
      "Epoch 4/30\n",
      "11468/11468 [==============================] - 698s 61ms/step - loss: 0.0523 - acc: 0.9924 - auc: 0.9149 - val_loss: 7.7624 - val_acc: 0.0926 - val_auc: 0.5608\n",
      "Epoch 1/30\n"
     ]
    },
    {
     "name": "stderr",
     "output_type": "stream",
     "text": [
      "2024-08-29 17:37:04.061819: I tensorflow/core/common_runtime/executor.cc:1197] [/device:CPU:0] (DEBUG INFO) Executor start aborting (this does not indicate an error and you can ignore this message): INVALID_ARGUMENT: You must feed a value for placeholder tensor 'gradients/split_2_grad/concat/split_2/split_dim' with dtype int32\n",
      "\t [[{{node gradients/split_2_grad/concat/split_2/split_dim}}]]\n",
      "2024-08-29 17:37:04.062968: I tensorflow/core/common_runtime/executor.cc:1197] [/device:CPU:0] (DEBUG INFO) Executor start aborting (this does not indicate an error and you can ignore this message): INVALID_ARGUMENT: You must feed a value for placeholder tensor 'gradients/split_grad/concat/split/split_dim' with dtype int32\n",
      "\t [[{{node gradients/split_grad/concat/split/split_dim}}]]\n",
      "2024-08-29 17:37:04.063655: I tensorflow/core/common_runtime/executor.cc:1197] [/device:CPU:0] (DEBUG INFO) Executor start aborting (this does not indicate an error and you can ignore this message): INVALID_ARGUMENT: You must feed a value for placeholder tensor 'gradients/split_1_grad/concat/split_1/split_dim' with dtype int32\n",
      "\t [[{{node gradients/split_1_grad/concat/split_1/split_dim}}]]\n",
      "2024-08-29 17:37:04.173930: I tensorflow/core/common_runtime/executor.cc:1197] [/device:CPU:0] (DEBUG INFO) Executor start aborting (this does not indicate an error and you can ignore this message): INVALID_ARGUMENT: You must feed a value for placeholder tensor 'gradients/split_2_grad/concat/split_2/split_dim' with dtype int32\n",
      "\t [[{{node gradients/split_2_grad/concat/split_2/split_dim}}]]\n",
      "2024-08-29 17:37:04.174638: I tensorflow/core/common_runtime/executor.cc:1197] [/device:CPU:0] (DEBUG INFO) Executor start aborting (this does not indicate an error and you can ignore this message): INVALID_ARGUMENT: You must feed a value for placeholder tensor 'gradients/split_grad/concat/split/split_dim' with dtype int32\n",
      "\t [[{{node gradients/split_grad/concat/split/split_dim}}]]\n",
      "2024-08-29 17:37:04.175289: I tensorflow/core/common_runtime/executor.cc:1197] [/device:CPU:0] (DEBUG INFO) Executor start aborting (this does not indicate an error and you can ignore this message): INVALID_ARGUMENT: You must feed a value for placeholder tensor 'gradients/split_1_grad/concat/split_1/split_dim' with dtype int32\n",
      "\t [[{{node gradients/split_1_grad/concat/split_1/split_dim}}]]\n",
      "2024-08-29 17:37:04.331976: I tensorflow/core/common_runtime/executor.cc:1197] [/device:CPU:0] (DEBUG INFO) Executor start aborting (this does not indicate an error and you can ignore this message): INVALID_ARGUMENT: You must feed a value for placeholder tensor 'gradients/split_2_grad/concat/split_2/split_dim' with dtype int32\n",
      "\t [[{{node gradients/split_2_grad/concat/split_2/split_dim}}]]\n",
      "2024-08-29 17:37:04.332879: I tensorflow/core/common_runtime/executor.cc:1197] [/device:CPU:0] (DEBUG INFO) Executor start aborting (this does not indicate an error and you can ignore this message): INVALID_ARGUMENT: You must feed a value for placeholder tensor 'gradients/split_grad/concat/split/split_dim' with dtype int32\n",
      "\t [[{{node gradients/split_grad/concat/split/split_dim}}]]\n",
      "2024-08-29 17:37:04.333545: I tensorflow/core/common_runtime/executor.cc:1197] [/device:CPU:0] (DEBUG INFO) Executor start aborting (this does not indicate an error and you can ignore this message): INVALID_ARGUMENT: You must feed a value for placeholder tensor 'gradients/split_1_grad/concat/split_1/split_dim' with dtype int32\n",
      "\t [[{{node gradients/split_1_grad/concat/split_1/split_dim}}]]\n",
      "2024-08-29 17:37:04.442712: I tensorflow/core/common_runtime/executor.cc:1197] [/device:CPU:0] (DEBUG INFO) Executor start aborting (this does not indicate an error and you can ignore this message): INVALID_ARGUMENT: You must feed a value for placeholder tensor 'gradients/split_2_grad/concat/split_2/split_dim' with dtype int32\n",
      "\t [[{{node gradients/split_2_grad/concat/split_2/split_dim}}]]\n",
      "2024-08-29 17:37:04.443475: I tensorflow/core/common_runtime/executor.cc:1197] [/device:CPU:0] (DEBUG INFO) Executor start aborting (this does not indicate an error and you can ignore this message): INVALID_ARGUMENT: You must feed a value for placeholder tensor 'gradients/split_grad/concat/split/split_dim' with dtype int32\n",
      "\t [[{{node gradients/split_grad/concat/split/split_dim}}]]\n",
      "2024-08-29 17:37:04.444153: I tensorflow/core/common_runtime/executor.cc:1197] [/device:CPU:0] (DEBUG INFO) Executor start aborting (this does not indicate an error and you can ignore this message): INVALID_ARGUMENT: You must feed a value for placeholder tensor 'gradients/split_1_grad/concat/split_1/split_dim' with dtype int32\n",
      "\t [[{{node gradients/split_1_grad/concat/split_1/split_dim}}]]\n",
      "2024-08-29 17:37:04.944061: I tensorflow/core/common_runtime/executor.cc:1197] [/device:CPU:0] (DEBUG INFO) Executor start aborting (this does not indicate an error and you can ignore this message): INVALID_ARGUMENT: You must feed a value for placeholder tensor 'gradients/split_2_grad/concat/split_2/split_dim' with dtype int32\n",
      "\t [[{{node gradients/split_2_grad/concat/split_2/split_dim}}]]\n",
      "2024-08-29 17:37:04.945145: I tensorflow/core/common_runtime/executor.cc:1197] [/device:CPU:0] (DEBUG INFO) Executor start aborting (this does not indicate an error and you can ignore this message): INVALID_ARGUMENT: You must feed a value for placeholder tensor 'gradients/split_grad/concat/split/split_dim' with dtype int32\n",
      "\t [[{{node gradients/split_grad/concat/split/split_dim}}]]\n",
      "2024-08-29 17:37:04.945900: I tensorflow/core/common_runtime/executor.cc:1197] [/device:CPU:0] (DEBUG INFO) Executor start aborting (this does not indicate an error and you can ignore this message): INVALID_ARGUMENT: You must feed a value for placeholder tensor 'gradients/split_1_grad/concat/split_1/split_dim' with dtype int32\n",
      "\t [[{{node gradients/split_1_grad/concat/split_1/split_dim}}]]\n",
      "2024-08-29 17:37:05.056039: I tensorflow/core/common_runtime/executor.cc:1197] [/device:CPU:0] (DEBUG INFO) Executor start aborting (this does not indicate an error and you can ignore this message): INVALID_ARGUMENT: You must feed a value for placeholder tensor 'gradients/split_2_grad/concat/split_2/split_dim' with dtype int32\n",
      "\t [[{{node gradients/split_2_grad/concat/split_2/split_dim}}]]\n",
      "2024-08-29 17:37:05.056793: I tensorflow/core/common_runtime/executor.cc:1197] [/device:CPU:0] (DEBUG INFO) Executor start aborting (this does not indicate an error and you can ignore this message): INVALID_ARGUMENT: You must feed a value for placeholder tensor 'gradients/split_grad/concat/split/split_dim' with dtype int32\n",
      "\t [[{{node gradients/split_grad/concat/split/split_dim}}]]\n",
      "2024-08-29 17:37:05.057473: I tensorflow/core/common_runtime/executor.cc:1197] [/device:CPU:0] (DEBUG INFO) Executor start aborting (this does not indicate an error and you can ignore this message): INVALID_ARGUMENT: You must feed a value for placeholder tensor 'gradients/split_1_grad/concat/split_1/split_dim' with dtype int32\n",
      "\t [[{{node gradients/split_1_grad/concat/split_1/split_dim}}]]\n"
     ]
    },
    {
     "name": "stdout",
     "output_type": "stream",
     "text": [
      "11468/11468 [==============================] - ETA: 0s - loss: 0.0560 - acc: 0.9889 - auc_1: 0.9217"
     ]
    },
    {
     "name": "stderr",
     "output_type": "stream",
     "text": [
      "2024-08-29 17:38:29.164721: I tensorflow/core/common_runtime/executor.cc:1197] [/device:CPU:0] (DEBUG INFO) Executor start aborting (this does not indicate an error and you can ignore this message): INVALID_ARGUMENT: You must feed a value for placeholder tensor 'gradients/split_2_grad/concat/split_2/split_dim' with dtype int32\n",
      "\t [[{{node gradients/split_2_grad/concat/split_2/split_dim}}]]\n",
      "2024-08-29 17:38:29.165739: I tensorflow/core/common_runtime/executor.cc:1197] [/device:CPU:0] (DEBUG INFO) Executor start aborting (this does not indicate an error and you can ignore this message): INVALID_ARGUMENT: You must feed a value for placeholder tensor 'gradients/split_grad/concat/split/split_dim' with dtype int32\n",
      "\t [[{{node gradients/split_grad/concat/split/split_dim}}]]\n",
      "2024-08-29 17:38:29.166447: I tensorflow/core/common_runtime/executor.cc:1197] [/device:CPU:0] (DEBUG INFO) Executor start aborting (this does not indicate an error and you can ignore this message): INVALID_ARGUMENT: You must feed a value for placeholder tensor 'gradients/split_1_grad/concat/split_1/split_dim' with dtype int32\n",
      "\t [[{{node gradients/split_1_grad/concat/split_1/split_dim}}]]\n",
      "2024-08-29 17:38:29.284696: I tensorflow/core/common_runtime/executor.cc:1197] [/device:CPU:0] (DEBUG INFO) Executor start aborting (this does not indicate an error and you can ignore this message): INVALID_ARGUMENT: You must feed a value for placeholder tensor 'gradients/split_2_grad/concat/split_2/split_dim' with dtype int32\n",
      "\t [[{{node gradients/split_2_grad/concat/split_2/split_dim}}]]\n",
      "2024-08-29 17:38:29.285481: I tensorflow/core/common_runtime/executor.cc:1197] [/device:CPU:0] (DEBUG INFO) Executor start aborting (this does not indicate an error and you can ignore this message): INVALID_ARGUMENT: You must feed a value for placeholder tensor 'gradients/split_grad/concat/split/split_dim' with dtype int32\n",
      "\t [[{{node gradients/split_grad/concat/split/split_dim}}]]\n",
      "2024-08-29 17:38:29.286186: I tensorflow/core/common_runtime/executor.cc:1197] [/device:CPU:0] (DEBUG INFO) Executor start aborting (this does not indicate an error and you can ignore this message): INVALID_ARGUMENT: You must feed a value for placeholder tensor 'gradients/split_1_grad/concat/split_1/split_dim' with dtype int32\n",
      "\t [[{{node gradients/split_1_grad/concat/split_1/split_dim}}]]\n"
     ]
    },
    {
     "name": "stdout",
     "output_type": "stream",
     "text": [
      "11468/11468 [==============================] - 109s 9ms/step - loss: 0.0560 - acc: 0.9889 - auc_1: 0.9217 - val_loss: 2.8567 - val_acc: 0.2092 - val_auc_1: 0.2803\n",
      "Epoch 2/30\n",
      "11468/11468 [==============================] - 107s 9ms/step - loss: 0.0291 - acc: 0.9953 - auc_1: 0.9591 - val_loss: 6.3882 - val_acc: 0.0600 - val_auc_1: 0.5309\n",
      "Epoch 3/30\n",
      "11468/11468 [==============================] - 107s 9ms/step - loss: 0.0268 - acc: 0.9960 - auc_1: 0.9628 - val_loss: 6.4354 - val_acc: 0.0981 - val_auc_1: 0.5534\n",
      "Epoch 4/30\n",
      "11468/11468 [==============================] - 106s 9ms/step - loss: 0.0280 - acc: 0.9957 - auc_1: 0.9601 - val_loss: 6.4779 - val_acc: 0.1239 - val_auc_1: 0.5678\n",
      "Epoch 1/30\n"
     ]
    },
    {
     "name": "stderr",
     "output_type": "stream",
     "text": [
      "2024-08-29 17:44:13.721375: I tensorflow/core/common_runtime/executor.cc:1197] [/device:CPU:0] (DEBUG INFO) Executor start aborting (this does not indicate an error and you can ignore this message): INVALID_ARGUMENT: You must feed a value for placeholder tensor 'gradients/split_2_grad/concat/split_2/split_dim' with dtype int32\n",
      "\t [[{{node gradients/split_2_grad/concat/split_2/split_dim}}]]\n",
      "2024-08-29 17:44:13.722219: I tensorflow/core/common_runtime/executor.cc:1197] [/device:CPU:0] (DEBUG INFO) Executor start aborting (this does not indicate an error and you can ignore this message): INVALID_ARGUMENT: You must feed a value for placeholder tensor 'gradients/split_grad/concat/split/split_dim' with dtype int32\n",
      "\t [[{{node gradients/split_grad/concat/split/split_dim}}]]\n",
      "2024-08-29 17:44:13.723057: I tensorflow/core/common_runtime/executor.cc:1197] [/device:CPU:0] (DEBUG INFO) Executor start aborting (this does not indicate an error and you can ignore this message): INVALID_ARGUMENT: You must feed a value for placeholder tensor 'gradients/split_1_grad/concat/split_1/split_dim' with dtype int32\n",
      "\t [[{{node gradients/split_1_grad/concat/split_1/split_dim}}]]\n",
      "2024-08-29 17:44:13.823794: I tensorflow/core/common_runtime/executor.cc:1197] [/device:CPU:0] (DEBUG INFO) Executor start aborting (this does not indicate an error and you can ignore this message): INVALID_ARGUMENT: You must feed a value for placeholder tensor 'gradients/split_2_grad/concat/split_2/split_dim' with dtype int32\n",
      "\t [[{{node gradients/split_2_grad/concat/split_2/split_dim}}]]\n",
      "2024-08-29 17:44:13.824536: I tensorflow/core/common_runtime/executor.cc:1197] [/device:CPU:0] (DEBUG INFO) Executor start aborting (this does not indicate an error and you can ignore this message): INVALID_ARGUMENT: You must feed a value for placeholder tensor 'gradients/split_grad/concat/split/split_dim' with dtype int32\n",
      "\t [[{{node gradients/split_grad/concat/split/split_dim}}]]\n",
      "2024-08-29 17:44:13.825230: I tensorflow/core/common_runtime/executor.cc:1197] [/device:CPU:0] (DEBUG INFO) Executor start aborting (this does not indicate an error and you can ignore this message): INVALID_ARGUMENT: You must feed a value for placeholder tensor 'gradients/split_1_grad/concat/split_1/split_dim' with dtype int32\n",
      "\t [[{{node gradients/split_1_grad/concat/split_1/split_dim}}]]\n",
      "2024-08-29 17:44:13.975252: I tensorflow/core/common_runtime/executor.cc:1197] [/device:CPU:0] (DEBUG INFO) Executor start aborting (this does not indicate an error and you can ignore this message): INVALID_ARGUMENT: You must feed a value for placeholder tensor 'gradients/split_2_grad/concat/split_2/split_dim' with dtype int32\n",
      "\t [[{{node gradients/split_2_grad/concat/split_2/split_dim}}]]\n",
      "2024-08-29 17:44:13.976278: I tensorflow/core/common_runtime/executor.cc:1197] [/device:CPU:0] (DEBUG INFO) Executor start aborting (this does not indicate an error and you can ignore this message): INVALID_ARGUMENT: You must feed a value for placeholder tensor 'gradients/split_grad/concat/split/split_dim' with dtype int32\n",
      "\t [[{{node gradients/split_grad/concat/split/split_dim}}]]\n",
      "2024-08-29 17:44:13.977030: I tensorflow/core/common_runtime/executor.cc:1197] [/device:CPU:0] (DEBUG INFO) Executor start aborting (this does not indicate an error and you can ignore this message): INVALID_ARGUMENT: You must feed a value for placeholder tensor 'gradients/split_1_grad/concat/split_1/split_dim' with dtype int32\n",
      "\t [[{{node gradients/split_1_grad/concat/split_1/split_dim}}]]\n",
      "2024-08-29 17:44:14.078035: I tensorflow/core/common_runtime/executor.cc:1197] [/device:CPU:0] (DEBUG INFO) Executor start aborting (this does not indicate an error and you can ignore this message): INVALID_ARGUMENT: You must feed a value for placeholder tensor 'gradients/split_2_grad/concat/split_2/split_dim' with dtype int32\n",
      "\t [[{{node gradients/split_2_grad/concat/split_2/split_dim}}]]\n",
      "2024-08-29 17:44:14.078831: I tensorflow/core/common_runtime/executor.cc:1197] [/device:CPU:0] (DEBUG INFO) Executor start aborting (this does not indicate an error and you can ignore this message): INVALID_ARGUMENT: You must feed a value for placeholder tensor 'gradients/split_grad/concat/split/split_dim' with dtype int32\n",
      "\t [[{{node gradients/split_grad/concat/split/split_dim}}]]\n",
      "2024-08-29 17:44:14.079560: I tensorflow/core/common_runtime/executor.cc:1197] [/device:CPU:0] (DEBUG INFO) Executor start aborting (this does not indicate an error and you can ignore this message): INVALID_ARGUMENT: You must feed a value for placeholder tensor 'gradients/split_1_grad/concat/split_1/split_dim' with dtype int32\n",
      "\t [[{{node gradients/split_1_grad/concat/split_1/split_dim}}]]\n",
      "2024-08-29 17:44:14.633386: I tensorflow/core/common_runtime/executor.cc:1197] [/device:CPU:0] (DEBUG INFO) Executor start aborting (this does not indicate an error and you can ignore this message): INVALID_ARGUMENT: You must feed a value for placeholder tensor 'gradients/split_2_grad/concat/split_2/split_dim' with dtype int32\n",
      "\t [[{{node gradients/split_2_grad/concat/split_2/split_dim}}]]\n",
      "2024-08-29 17:44:14.634590: I tensorflow/core/common_runtime/executor.cc:1197] [/device:CPU:0] (DEBUG INFO) Executor start aborting (this does not indicate an error and you can ignore this message): INVALID_ARGUMENT: You must feed a value for placeholder tensor 'gradients/split_grad/concat/split/split_dim' with dtype int32\n",
      "\t [[{{node gradients/split_grad/concat/split/split_dim}}]]\n",
      "2024-08-29 17:44:14.635337: I tensorflow/core/common_runtime/executor.cc:1197] [/device:CPU:0] (DEBUG INFO) Executor start aborting (this does not indicate an error and you can ignore this message): INVALID_ARGUMENT: You must feed a value for placeholder tensor 'gradients/split_1_grad/concat/split_1/split_dim' with dtype int32\n",
      "\t [[{{node gradients/split_1_grad/concat/split_1/split_dim}}]]\n",
      "2024-08-29 17:44:14.734092: I tensorflow/core/common_runtime/executor.cc:1197] [/device:CPU:0] (DEBUG INFO) Executor start aborting (this does not indicate an error and you can ignore this message): INVALID_ARGUMENT: You must feed a value for placeholder tensor 'gradients/split_2_grad/concat/split_2/split_dim' with dtype int32\n",
      "\t [[{{node gradients/split_2_grad/concat/split_2/split_dim}}]]\n",
      "2024-08-29 17:44:14.734912: I tensorflow/core/common_runtime/executor.cc:1197] [/device:CPU:0] (DEBUG INFO) Executor start aborting (this does not indicate an error and you can ignore this message): INVALID_ARGUMENT: You must feed a value for placeholder tensor 'gradients/split_grad/concat/split/split_dim' with dtype int32\n",
      "\t [[{{node gradients/split_grad/concat/split/split_dim}}]]\n",
      "2024-08-29 17:44:14.735641: I tensorflow/core/common_runtime/executor.cc:1197] [/device:CPU:0] (DEBUG INFO) Executor start aborting (this does not indicate an error and you can ignore this message): INVALID_ARGUMENT: You must feed a value for placeholder tensor 'gradients/split_1_grad/concat/split_1/split_dim' with dtype int32\n",
      "\t [[{{node gradients/split_1_grad/concat/split_1/split_dim}}]]\n"
     ]
    },
    {
     "name": "stdout",
     "output_type": "stream",
     "text": [
      "11466/11468 [============================>.] - ETA: 0s - loss: 0.1023 - acc: 0.9829 - auc_2: 0.8230"
     ]
    },
    {
     "name": "stderr",
     "output_type": "stream",
     "text": [
      "2024-08-29 17:45:35.232622: I tensorflow/core/common_runtime/executor.cc:1197] [/device:CPU:0] (DEBUG INFO) Executor start aborting (this does not indicate an error and you can ignore this message): INVALID_ARGUMENT: You must feed a value for placeholder tensor 'gradients/split_2_grad/concat/split_2/split_dim' with dtype int32\n",
      "\t [[{{node gradients/split_2_grad/concat/split_2/split_dim}}]]\n",
      "2024-08-29 17:45:35.233618: I tensorflow/core/common_runtime/executor.cc:1197] [/device:CPU:0] (DEBUG INFO) Executor start aborting (this does not indicate an error and you can ignore this message): INVALID_ARGUMENT: You must feed a value for placeholder tensor 'gradients/split_grad/concat/split/split_dim' with dtype int32\n",
      "\t [[{{node gradients/split_grad/concat/split/split_dim}}]]\n",
      "2024-08-29 17:45:35.234387: I tensorflow/core/common_runtime/executor.cc:1197] [/device:CPU:0] (DEBUG INFO) Executor start aborting (this does not indicate an error and you can ignore this message): INVALID_ARGUMENT: You must feed a value for placeholder tensor 'gradients/split_1_grad/concat/split_1/split_dim' with dtype int32\n",
      "\t [[{{node gradients/split_1_grad/concat/split_1/split_dim}}]]\n",
      "2024-08-29 17:45:35.332173: I tensorflow/core/common_runtime/executor.cc:1197] [/device:CPU:0] (DEBUG INFO) Executor start aborting (this does not indicate an error and you can ignore this message): INVALID_ARGUMENT: You must feed a value for placeholder tensor 'gradients/split_2_grad/concat/split_2/split_dim' with dtype int32\n",
      "\t [[{{node gradients/split_2_grad/concat/split_2/split_dim}}]]\n",
      "2024-08-29 17:45:35.332924: I tensorflow/core/common_runtime/executor.cc:1197] [/device:CPU:0] (DEBUG INFO) Executor start aborting (this does not indicate an error and you can ignore this message): INVALID_ARGUMENT: You must feed a value for placeholder tensor 'gradients/split_grad/concat/split/split_dim' with dtype int32\n",
      "\t [[{{node gradients/split_grad/concat/split/split_dim}}]]\n",
      "2024-08-29 17:45:35.333590: I tensorflow/core/common_runtime/executor.cc:1197] [/device:CPU:0] (DEBUG INFO) Executor start aborting (this does not indicate an error and you can ignore this message): INVALID_ARGUMENT: You must feed a value for placeholder tensor 'gradients/split_1_grad/concat/split_1/split_dim' with dtype int32\n",
      "\t [[{{node gradients/split_1_grad/concat/split_1/split_dim}}]]\n"
     ]
    },
    {
     "name": "stdout",
     "output_type": "stream",
     "text": [
      "11468/11468 [==============================] - 105s 9ms/step - loss: 0.1023 - acc: 0.9829 - auc_2: 0.8230 - val_loss: 0.6309 - val_acc: 0.6550 - val_auc_2: 0.4377\n",
      "Epoch 2/30\n",
      "11468/11468 [==============================] - 103s 9ms/step - loss: 0.0748 - acc: 0.9887 - auc_2: 0.8616 - val_loss: 5.4732 - val_acc: 0.0908 - val_auc_2: 0.6160\n",
      "Epoch 3/30\n",
      "11468/11468 [==============================] - 103s 9ms/step - loss: 0.0686 - acc: 0.9906 - auc_2: 0.8714 - val_loss: 6.5846 - val_acc: 0.1040 - val_auc_2: 0.5612\n",
      "Epoch 4/30\n",
      "11468/11468 [==============================] - 103s 9ms/step - loss: 0.0701 - acc: 0.9911 - auc_2: 0.8641 - val_loss: 6.8603 - val_acc: 0.0949 - val_auc_2: 0.5627\n"
     ]
    }
   ],
   "source": [
    "model_rnn = SimpleRNNModel(X_train.shape)\n",
    "model_lstm = SimpleLSTMModel(X_train.shape)\n",
    "model_gru = SimpleGruModel(X_train.shape)\n",
    "import keras\n",
    "callback = keras.callbacks.EarlyStopping(monitor='val_loss', patience=3)\n",
    "\n",
    "pipelines = []\n",
    "models = [model_rnn, model_lstm, model_gru]\n",
    "# models = [model]\n",
    "\n",
    "for m in models:\n",
    "    pipeline = SimplePipeline(final_model=m.get_model())\n",
    "    history = m.fit(data_train, epochs=30, validation_data=data_val, callbacks = [callback])\n",
    "    pipelines.append(m)"
   ]
  },
  {
   "cell_type": "code",
   "execution_count": 12,
   "metadata": {},
   "outputs": [],
   "source": [
    "def get_y_pred_actual(y_pred_score, y_test, sequence_length):\n",
    "    y_pred = y_pred_score > np.quantile(y_pred_score, 0.95)\n",
    "    y_true = y_test[:-sequence_length+1]\n",
    "    return y_true, y_pred\n",
    "    "
   ]
  },
  {
   "cell_type": "code",
   "execution_count": 13,
   "metadata": {},
   "outputs": [
    {
     "name": "stdout",
     "output_type": "stream",
     "text": [
      "    1/16383 [..............................] - ETA: 1:05:07"
     ]
    },
    {
     "name": "stderr",
     "output_type": "stream",
     "text": [
      "2024-08-29 17:55:20.772234: I tensorflow/core/common_runtime/executor.cc:1197] [/device:CPU:0] (DEBUG INFO) Executor start aborting (this does not indicate an error and you can ignore this message): INVALID_ARGUMENT: You must feed a value for placeholder tensor 'Placeholder/_0' with dtype double and shape [524286,54]\n",
      "\t [[{{node Placeholder/_0}}]]\n",
      "2024-08-29 17:55:20.772621: I tensorflow/core/common_runtime/executor.cc:1197] [/device:CPU:0] (DEBUG INFO) Executor start aborting (this does not indicate an error and you can ignore this message): INVALID_ARGUMENT: You must feed a value for placeholder tensor 'Placeholder/_0' with dtype double and shape [524286,54]\n",
      "\t [[{{node Placeholder/_0}}]]\n"
     ]
    },
    {
     "name": "stdout",
     "output_type": "stream",
     "text": [
      "16383/16383 [==============================] - 193s 12ms/step\n"
     ]
    },
    {
     "name": "stderr",
     "output_type": "stream",
     "text": [
      "2024-08-29 17:58:40.195429: I tensorflow/core/common_runtime/executor.cc:1197] [/device:CPU:0] (DEBUG INFO) Executor start aborting (this does not indicate an error and you can ignore this message): INVALID_ARGUMENT: You must feed a value for placeholder tensor 'gradients/split_2_grad/concat/split_2/split_dim' with dtype int32\n",
      "\t [[{{node gradients/split_2_grad/concat/split_2/split_dim}}]]\n",
      "2024-08-29 17:58:40.196615: I tensorflow/core/common_runtime/executor.cc:1197] [/device:CPU:0] (DEBUG INFO) Executor start aborting (this does not indicate an error and you can ignore this message): INVALID_ARGUMENT: You must feed a value for placeholder tensor 'gradients/split_grad/concat/split/split_dim' with dtype int32\n",
      "\t [[{{node gradients/split_grad/concat/split/split_dim}}]]\n",
      "2024-08-29 17:58:40.197343: I tensorflow/core/common_runtime/executor.cc:1197] [/device:CPU:0] (DEBUG INFO) Executor start aborting (this does not indicate an error and you can ignore this message): INVALID_ARGUMENT: You must feed a value for placeholder tensor 'gradients/split_1_grad/concat/split_1/split_dim' with dtype int32\n",
      "\t [[{{node gradients/split_1_grad/concat/split_1/split_dim}}]]\n",
      "2024-08-29 17:58:40.316051: I tensorflow/core/common_runtime/executor.cc:1197] [/device:CPU:0] (DEBUG INFO) Executor start aborting (this does not indicate an error and you can ignore this message): INVALID_ARGUMENT: You must feed a value for placeholder tensor 'gradients/split_2_grad/concat/split_2/split_dim' with dtype int32\n",
      "\t [[{{node gradients/split_2_grad/concat/split_2/split_dim}}]]\n",
      "2024-08-29 17:58:40.316888: I tensorflow/core/common_runtime/executor.cc:1197] [/device:CPU:0] (DEBUG INFO) Executor start aborting (this does not indicate an error and you can ignore this message): INVALID_ARGUMENT: You must feed a value for placeholder tensor 'gradients/split_grad/concat/split/split_dim' with dtype int32\n",
      "\t [[{{node gradients/split_grad/concat/split/split_dim}}]]\n",
      "2024-08-29 17:58:40.317609: I tensorflow/core/common_runtime/executor.cc:1197] [/device:CPU:0] (DEBUG INFO) Executor start aborting (this does not indicate an error and you can ignore this message): INVALID_ARGUMENT: You must feed a value for placeholder tensor 'gradients/split_1_grad/concat/split_1/split_dim' with dtype int32\n",
      "\t [[{{node gradients/split_1_grad/concat/split_1/split_dim}}]]\n"
     ]
    },
    {
     "name": "stdout",
     "output_type": "stream",
     "text": [
      "16383/16383 [==============================] - 51s 3ms/step\n"
     ]
    },
    {
     "name": "stderr",
     "output_type": "stream",
     "text": [
      "2024-08-29 17:59:34.662087: I tensorflow/core/common_runtime/executor.cc:1197] [/device:CPU:0] (DEBUG INFO) Executor start aborting (this does not indicate an error and you can ignore this message): INVALID_ARGUMENT: You must feed a value for placeholder tensor 'gradients/split_2_grad/concat/split_2/split_dim' with dtype int32\n",
      "\t [[{{node gradients/split_2_grad/concat/split_2/split_dim}}]]\n",
      "2024-08-29 17:59:34.663196: I tensorflow/core/common_runtime/executor.cc:1197] [/device:CPU:0] (DEBUG INFO) Executor start aborting (this does not indicate an error and you can ignore this message): INVALID_ARGUMENT: You must feed a value for placeholder tensor 'gradients/split_grad/concat/split/split_dim' with dtype int32\n",
      "\t [[{{node gradients/split_grad/concat/split/split_dim}}]]\n",
      "2024-08-29 17:59:34.663890: I tensorflow/core/common_runtime/executor.cc:1197] [/device:CPU:0] (DEBUG INFO) Executor start aborting (this does not indicate an error and you can ignore this message): INVALID_ARGUMENT: You must feed a value for placeholder tensor 'gradients/split_1_grad/concat/split_1/split_dim' with dtype int32\n",
      "\t [[{{node gradients/split_1_grad/concat/split_1/split_dim}}]]\n",
      "2024-08-29 17:59:34.760987: I tensorflow/core/common_runtime/executor.cc:1197] [/device:CPU:0] (DEBUG INFO) Executor start aborting (this does not indicate an error and you can ignore this message): INVALID_ARGUMENT: You must feed a value for placeholder tensor 'gradients/split_2_grad/concat/split_2/split_dim' with dtype int32\n",
      "\t [[{{node gradients/split_2_grad/concat/split_2/split_dim}}]]\n",
      "2024-08-29 17:59:34.761745: I tensorflow/core/common_runtime/executor.cc:1197] [/device:CPU:0] (DEBUG INFO) Executor start aborting (this does not indicate an error and you can ignore this message): INVALID_ARGUMENT: You must feed a value for placeholder tensor 'gradients/split_grad/concat/split/split_dim' with dtype int32\n",
      "\t [[{{node gradients/split_grad/concat/split/split_dim}}]]\n",
      "2024-08-29 17:59:34.762422: I tensorflow/core/common_runtime/executor.cc:1197] [/device:CPU:0] (DEBUG INFO) Executor start aborting (this does not indicate an error and you can ignore this message): INVALID_ARGUMENT: You must feed a value for placeholder tensor 'gradients/split_1_grad/concat/split_1/split_dim' with dtype int32\n",
      "\t [[{{node gradients/split_1_grad/concat/split_1/split_dim}}]]\n"
     ]
    },
    {
     "name": "stdout",
     "output_type": "stream",
     "text": [
      "16383/16383 [==============================] - 50s 3ms/step\n"
     ]
    }
   ],
   "source": [
    "list_y_pred_score = []\n",
    "list_ys_true_pred = []\n",
    "for p in pipelines:\n",
    "    y_pred_score = p.predict(data_test)\n",
    "    y_true, y_pred = get_y_pred_actual(y_pred_score, y_test, sequence_length)\n",
    "    list_ys_true_pred.append((y_true, y_pred, y_pred_score))"
   ]
  },
  {
   "cell_type": "code",
   "execution_count": 14,
   "metadata": {},
   "outputs": [],
   "source": [
    "from itertools import cycle\n",
    "names = ['RNN', 'LSTM', 'GRU']\n",
    "name_cycler = cycle(names)"
   ]
  },
  {
   "cell_type": "code",
   "execution_count": 15,
   "metadata": {},
   "outputs": [
    {
     "data": {
      "image/png": "[encoded data removed]",
      "text/plain": [
       "<Figure size 400x400 with 1 Axes>"
      ]
     },
     "metadata": {},
     "output_type": "display_data"
    },
    {
     "data": {
      "image/png": "[encoded data removed]",
      "text/plain": [
       "<Figure size 400x400 with 1 Axes>"
      ]
     },
     "metadata": {},
     "output_type": "display_data"
    },
    {
     "data": {
      "image/png": "[encoded data removed]",
      "text/plain": [
       "<Figure size 400x400 with 1 Axes>"
      ]
     },
     "metadata": {},
     "output_type": "display_data"
    }
   ],
   "source": [
    "from publications.lacci2024.plotter import Plotter\n",
    "plotter = Plotter()\n",
    "for y_true, y_pred, y_pred_score in list_ys_true_pred:\n",
    "    plotter.plot_matrix(y_true, y_pred,name_cycler, filename=f\"confusion_{sequence_length}\")\n"
   ]
  },
  {
   "cell_type": "code",
   "execution_count": 16,
   "metadata": {},
   "outputs": [
    {
     "data": {
      "image/png": "[encoded data removed]",
      "text/plain": [
       "<Figure size 640x480 with 1 Axes>"
      ]
     },
     "metadata": {},
     "output_type": "display_data"
    }
   ],
   "source": [
    "from sklearn import metrics\n",
    "import cycler\n",
    "title = \"ROC\"\n",
    "fig, ax = plt.subplots()\n",
    "ax.plot([0,1], [0,1], \"k--\",linewidth=4, label='random classifier')\n",
    "for y_true, y_pred, y_pred_score in list_ys_true_pred:\n",
    "    fpr, tpr, thresholds = metrics.roc_curve(y_true, y_pred_score)\n",
    "    auc = metrics.auc(fpr, tpr)\n",
    "    ax.plot(fpr, tpr,  linewidth=4, label=f\"{next(name_cycler)} (AUC = {round(auc,2) })\")\n",
    "ax.set_xlim([0.0, 1.0])\n",
    "ax.set_ylim([0.0, 1.05])\n",
    "ax.set_xlabel(\"False Positive Rate (1 - Specificity)\", fontsize=16)\n",
    "ax.set_ylabel(\"True Positive Rate (Sensitivity)\", fontsize=16)\n",
    "ax.set_title(f\"Receiver Operating Characteristic \\n {title}\", fontsize=18)\n",
    "ax.legend(loc=\"lower right\")\n",
    "plt.savefig(f\"roc_{sequence_length}.pdf\")\n",
    "\n",
    "plt.show()"
   ]
  },
  {
   "cell_type": "code",
   "execution_count": 17,
   "metadata": {},
   "outputs": [],
   "source": [
    "def roc(y_true, y_pred_score):\n",
    "    fpr, tpr, thresholds = metrics.roc_curve(y_true, y_pred_score)\n",
    "    auc = metrics.auc(fpr, tpr)\n",
    "    return auc"
   ]
  },
  {
   "cell_type": "code",
   "execution_count": 18,
   "metadata": {},
   "outputs": [],
   "source": [
    "import scipy.stats as st"
   ]
  },
  {
   "cell_type": "code",
   "execution_count": 19,
   "metadata": {},
   "outputs": [],
   "source": [
    "def roc_samples(y_t, y_s):\n",
    "    N = len(y_t)\n",
    "    rocs = []\n",
    "    for b in range(30):\n",
    "        choices = np.random.choice(N, size=N)\n",
    "        ys_t = y_t[choices]\n",
    "        ys_p = y_s[choices]\n",
    "        fpr, tpr, thresholds = metrics.roc_curve(ys_t, ys_p)\n",
    "        auc = metrics.auc(fpr, tpr)\n",
    "        rocs.append(auc)\n",
    "    return rocs\n",
    "\n",
    "cis = []\n",
    "for y_true, y_pred, y_pred_score in list_ys_true_pred:\n",
    "    rocs = roc_samples(y_true, y_pred_score)\n",
    "    roc_mean = np.mean(rocs)\n",
    "    roc_std = np.std(rocs)\n",
    "    roc_lb = roc_mean - 1.96 * roc_std\n",
    "    roc_up = roc_mean + 1.96 * roc_std\n",
    "    ci = f'{round(roc_mean, 2)} {round(roc_lb, 2), round(roc_up, 2)}'\n",
    "    cis.append(ci)\n"
   ]
  },
  {
   "cell_type": "code",
   "execution_count": 20,
   "metadata": {},
   "outputs": [
    {
     "data": {
      "text/plain": [
       "['0.6 (0.59, 0.6)', '0.69 (0.68, 0.69)', '0.64 (0.63, 0.65)']"
      ]
     },
     "execution_count": 20,
     "metadata": {},
     "output_type": "execute_result"
    }
   ],
   "source": [
    "cis"
   ]
  },
  {
   "cell_type": "code",
   "execution_count": 25,
   "metadata": {},
   "outputs": [],
   "source": [
    "import pandas as pd"
   ]
  },
  {
   "cell_type": "code",
   "execution_count": 26,
   "metadata": {},
   "outputs": [
    {
     "name": "stdout",
     "output_type": "stream",
     "text": [
      "\\begin{tabular}{ll}\n",
      "\\toprule\n",
      "Model & 95\\% Confidence Interval \\\\\n",
      "\\midrule\n",
      "RNN & 0.57 (0.56, 0.58) \\\\\n",
      "LSTM & 0.69 (0.68, 0.7) \\\\\n",
      "GRU & 0.75 (0.74, 0.76) \\\\\n",
      "\\bottomrule\n",
      "\\end{tabular}\n",
      "\n"
     ]
    }
   ],
   "source": [
    "df_ci = pd.DataFrame({\n",
    "        \"Model\": names,\n",
    "        \"95% Confidence Interval\": cis\n",
    "    })\n",
    "print(df_ci.to_latex(index=False, escape=True))"
   ]
  },
  {
   "cell_type": "code",
   "execution_count": null,
   "metadata": {},
   "outputs": [],
   "source": []
  },
  {
   "cell_type": "code",
   "execution_count": null,
   "metadata": {},
   "outputs": [],
   "source": []
  }
 ],
 "metadata": {
  "kernelspec": {
   "display_name": "Python 3",
   "language": "python",
   "name": "python3"
  },
  "language_info": {
   "codemirror_mode": {
    "name": "ipython",
    "version": 3
   },
   "file_extension": ".py",
   "mimetype": "text/x-python",
   "name": "python",
   "nbconvert_exporter": "python",
   "pygments_lexer": "ipython3",
   "version": "3.8.10"
  }
 },
 "nbformat": 4,
 "nbformat_minor": 2
}
