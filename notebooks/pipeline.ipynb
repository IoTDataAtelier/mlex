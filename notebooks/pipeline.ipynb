{
 "cells": [
  {
   "cell_type": "code",
   "execution_count": 2,
   "metadata": {},
   "outputs": [],
   "source": [
    "%load_ext autoreload\n",
    "%autoreload 2"
   ]
  },
  {
   "cell_type": "code",
   "execution_count": 3,
   "metadata": {},
   "outputs": [],
   "source": [
    "import os\n",
    "import sys\n",
    "module_path = os.path.abspath(os.path.join('..'))\n",
    "if module_path not in sys.path:\n",
    "    sys.path.append(module_path)"
   ]
  },
  {
   "cell_type": "code",
   "execution_count": 4,
   "metadata": {},
   "outputs": [],
   "source": [
    "import pandas as pd\n",
    "import numpy as np\n",
    "import matplotlib.pyplot as plt"
   ]
  },
  {
   "cell_type": "code",
   "execution_count": 5,
   "metadata": {},
   "outputs": [],
   "source": [
    "path = \"/data/pcpe_01.csv\"\n",
    "df = pd.read_csv(path, delimiter=';')"
   ]
  },
  {
   "cell_type": "code",
   "execution_count": 6,
   "metadata": {},
   "outputs": [],
   "source": [
    "columns_num = [\n",
    "    'DIA_LANCAMENTO', \n",
    "    'MES_LANCAMENTO',\n",
    "    'VALOR_TRANSACAO',\n",
    "    'VALOR_SALDO',\n",
    "]\n",
    "\n",
    "columns_cat = [\n",
    "    'TIPO',\n",
    "    'CNAB',\n",
    "    'NATUREZA_SALDO'\n",
    "]\n",
    "\n",
    "target = ['I-a']\n",
    "y = df[target].values\n",
    "y = np.nan_to_num(y)"
   ]
  },
  {
   "cell_type": "code",
   "execution_count": 27,
   "metadata": {},
   "outputs": [
    {
     "name": "stdout",
     "output_type": "stream",
     "text": [
      "[[<bound method TransformerMixin.fit_transform of NumericalTransfomer()>\n",
      "  <bound method TransformerMixin.fit_transform of CategoricalOneHotTransfomer()>]]\n"
     ]
    }
   ],
   "source": [
    "from mlex.features.columns import CompositeTranformer\n",
    "\n",
    "tranformer = CompositeTranformer(\n",
    "    numeric_features=columns_num,\n",
    "    categorical_features=columns_cat\n",
    ")\n",
    "\n",
    "Xt = tranformer.fit_transform(df)\n",
    "\n",
    "print(Xt)"
   ]
  },
  {
   "cell_type": "code",
   "execution_count": 30,
   "metadata": {},
   "outputs": [
    {
     "data": {
      "text/plain": [
       "array([[0.00000000e+00, 1.00000000e+00, 0.00000000e+00, ...,\n",
       "        0.00000000e+00, 7.50000000e-08, 3.70279998e-05],\n",
       "       [0.00000000e+00, 1.00000000e+00, 0.00000000e+00, ...,\n",
       "        0.00000000e+00, 2.00000000e-07, 3.71987144e-05],\n",
       "       [0.00000000e+00, 1.00000000e+00, 0.00000000e+00, ...,\n",
       "        0.00000000e+00, 3.00000000e-08, 3.06547964e-04],\n",
       "       ...,\n",
       "       [0.00000000e+00, 1.00000000e+00, 0.00000000e+00, ...,\n",
       "        1.81818182e-01, 1.19500000e-06, 4.91828803e-05],\n",
       "       [1.00000000e+00, 0.00000000e+00, 0.00000000e+00, ...,\n",
       "        1.81818182e-01, 0.00000000e+00, 8.02358685e-07],\n",
       "       [1.00000000e+00, 0.00000000e+00, 0.00000000e+00, ...,\n",
       "        1.81818182e-01, 0.00000000e+00, 8.02358685e-07]])"
      ]
     },
     "execution_count": 30,
     "metadata": {},
     "output_type": "execute_result"
    }
   ],
   "source": [
    "from sklearn.preprocessing import OneHotEncoder\n",
    "from sklearn.preprocessing import MinMaxScaler\n",
    "\n",
    "encoder = OneHotEncoder()\n",
    "scaler = MinMaxScaler()\n",
    "\n",
    "X_onehot = encoder.fit_transform(df[columns_cat]).toarray()\n",
    "X_num = scaler.fit_transform(df[columns_num])\n",
    "\n",
    "Xt = np.column_stack([X_onehot, X_num])\n",
    "\n",
    "Xt"
   ]
  },
  {
   "cell_type": "code",
   "execution_count": 40,
   "metadata": {},
   "outputs": [],
   "source": [
    "from mlex.utils.splits import PastFutureSplit\n",
    "\n",
    "split = PastFutureSplit()\n",
    "\n",
    "X_train, X_test, y_train, y_test = split.train_test_split(Xt,y)"
   ]
  },
  {
   "cell_type": "code",
   "execution_count": 41,
   "metadata": {},
   "outputs": [],
   "source": [
    "from mlex.features.sequences import SequenceTransfomer\n",
    "p = SequenceTransfomer()\n",
    "np.asarray(X_train)\n",
    "np.asarray(y_train)\n",
    "data_train = p.transform( \n",
    "    X = X_train,\n",
    "    y = y_train\n",
    ")"
   ]
  },
  {
   "cell_type": "code",
   "execution_count": 66,
   "metadata": {},
   "outputs": [],
   "source": [
    "import keras\n",
    "import keras.optimizers.adam"
   ]
  },
  {
   "cell_type": "code",
   "execution_count": 76,
   "metadata": {},
   "outputs": [],
   "source": [
    "from mlex.pipelines.simple_pipeline import SimplePipeline\n",
    "from mlex.models.models import SimpleRNNModel\n",
    "\n",
    "my_model = SimpleRNNModel(\n",
    "                    input_shape=Xt.shape\n",
    "                    ).get_model\n",
    " \n",
    "\n",
    "model = model_simplernn = SimplePipeline(\n",
    "    numeric_features=columns_num,\n",
    "    categorical_features=columns_cat,\n",
    "    final_model= my_model\n",
    ")"
   ]
  },
  {
   "cell_type": "code",
   "execution_count": null,
   "metadata": {},
   "outputs": [],
   "source": []
  }
 ],
 "metadata": {
  "kernelspec": {
   "display_name": "Python 3",
   "language": "python",
   "name": "python3"
  },
  "language_info": {
   "codemirror_mode": {
    "name": "ipython",
    "version": 3
   },
   "file_extension": ".py",
   "mimetype": "text/x-python",
   "name": "python",
   "nbconvert_exporter": "python",
   "pygments_lexer": "ipython3",
   "version": "3.8.10"
  }
 },
 "nbformat": 4,
 "nbformat_minor": 2
}
