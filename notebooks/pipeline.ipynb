{
 "cells": [
  {
   "cell_type": "code",
   "execution_count": 1,
   "metadata": {},
   "outputs": [],
   "source": [
    "%load_ext autoreload\n",
    "%autoreload 2"
   ]
  },
  {
   "cell_type": "code",
   "execution_count": 2,
   "metadata": {},
   "outputs": [],
   "source": [
    "import os\n",
    "import sys\n",
    "module_path = os.path.abspath(os.path.join('..'))\n",
    "if module_path not in sys.path:\n",
    "    sys.path.append(module_path)"
   ]
  },
  {
   "cell_type": "code",
   "execution_count": 3,
   "metadata": {},
   "outputs": [],
   "source": [
    "import pandas as pd\n",
    "import numpy as np\n",
    "import matplotlib.pyplot as plt\n"
   ]
  },
  {
   "cell_type": "code",
   "execution_count": 4,
   "metadata": {},
   "outputs": [
    {
     "data": {
      "text/html": [
       "<div>\n",
       "<style scoped>\n",
       "    .dataframe tbody tr th:only-of-type {\n",
       "        vertical-align: middle;\n",
       "    }\n",
       "\n",
       "    .dataframe tbody tr th {\n",
       "        vertical-align: top;\n",
       "    }\n",
       "\n",
       "    .dataframe thead th {\n",
       "        text-align: right;\n",
       "    }\n",
       "</style>\n",
       "<table border=\"1\" class=\"dataframe\">\n",
       "  <thead>\n",
       "    <tr style=\"text-align: right;\">\n",
       "      <th></th>\n",
       "      <th>NUMERO_CASO</th>\n",
       "      <th>NUMERO_BANCO</th>\n",
       "      <th>NUMERO_AGENCIA</th>\n",
       "      <th>NUMERO_CONTA</th>\n",
       "      <th>TIPO</th>\n",
       "      <th>CPF_CNPJ_TITULAR</th>\n",
       "      <th>CNAB</th>\n",
       "      <th>CNAB=101</th>\n",
       "      <th>CNAB=119</th>\n",
       "      <th>CNAB=120</th>\n",
       "      <th>...</th>\n",
       "      <th>NUMERO_AGENCIA_OD</th>\n",
       "      <th>NUMERO_CONTA_OD</th>\n",
       "      <th>I-a</th>\n",
       "      <th>I-b</th>\n",
       "      <th>I-c</th>\n",
       "      <th>I-d</th>\n",
       "      <th>I-e</th>\n",
       "      <th>DIA_LANCAMENTO</th>\n",
       "      <th>MES_LANCAMENTO</th>\n",
       "      <th>ANO_LANCAMENTO</th>\n",
       "    </tr>\n",
       "  </thead>\n",
       "  <tbody>\n",
       "    <tr>\n",
       "      <th>0</th>\n",
       "      <td>CASO-01-L1K4U4</td>\n",
       "      <td>O6Y</td>\n",
       "      <td>1965</td>\n",
       "      <td>153602</td>\n",
       "      <td>2</td>\n",
       "      <td>ZS9104223348</td>\n",
       "      <td>218</td>\n",
       "      <td>0</td>\n",
       "      <td>0</td>\n",
       "      <td>0</td>\n",
       "      <td>...</td>\n",
       "      <td>0</td>\n",
       "      <td>NaN</td>\n",
       "      <td>NaN</td>\n",
       "      <td>NaN</td>\n",
       "      <td>NaN</td>\n",
       "      <td>NaN</td>\n",
       "      <td>NaN</td>\n",
       "      <td>1</td>\n",
       "      <td>1</td>\n",
       "      <td>2017</td>\n",
       "    </tr>\n",
       "    <tr>\n",
       "      <th>1</th>\n",
       "      <td>CASO-01-L1K4U4</td>\n",
       "      <td>O6Y</td>\n",
       "      <td>1965</td>\n",
       "      <td>153602</td>\n",
       "      <td>2</td>\n",
       "      <td>ZS9104223348</td>\n",
       "      <td>218</td>\n",
       "      <td>0</td>\n",
       "      <td>0</td>\n",
       "      <td>0</td>\n",
       "      <td>...</td>\n",
       "      <td>0</td>\n",
       "      <td>NaN</td>\n",
       "      <td>NaN</td>\n",
       "      <td>NaN</td>\n",
       "      <td>NaN</td>\n",
       "      <td>NaN</td>\n",
       "      <td>NaN</td>\n",
       "      <td>1</td>\n",
       "      <td>1</td>\n",
       "      <td>2017</td>\n",
       "    </tr>\n",
       "    <tr>\n",
       "      <th>2</th>\n",
       "      <td>CASO-01-L1K4U4</td>\n",
       "      <td>L6X</td>\n",
       "      <td>742</td>\n",
       "      <td>810886</td>\n",
       "      <td>2</td>\n",
       "      <td>RJ3341718546</td>\n",
       "      <td>211</td>\n",
       "      <td>0</td>\n",
       "      <td>0</td>\n",
       "      <td>0</td>\n",
       "      <td>...</td>\n",
       "      <td>75</td>\n",
       "      <td>NaN</td>\n",
       "      <td>NaN</td>\n",
       "      <td>NaN</td>\n",
       "      <td>NaN</td>\n",
       "      <td>NaN</td>\n",
       "      <td>NaN</td>\n",
       "      <td>2</td>\n",
       "      <td>1</td>\n",
       "      <td>2017</td>\n",
       "    </tr>\n",
       "    <tr>\n",
       "      <th>3</th>\n",
       "      <td>CASO-01-L1K4U4</td>\n",
       "      <td>L6X</td>\n",
       "      <td>742</td>\n",
       "      <td>810886</td>\n",
       "      <td>2</td>\n",
       "      <td>RJ3341718546</td>\n",
       "      <td>211</td>\n",
       "      <td>0</td>\n",
       "      <td>0</td>\n",
       "      <td>0</td>\n",
       "      <td>...</td>\n",
       "      <td>75</td>\n",
       "      <td>NaN</td>\n",
       "      <td>NaN</td>\n",
       "      <td>NaN</td>\n",
       "      <td>NaN</td>\n",
       "      <td>NaN</td>\n",
       "      <td>NaN</td>\n",
       "      <td>2</td>\n",
       "      <td>1</td>\n",
       "      <td>2017</td>\n",
       "    </tr>\n",
       "    <tr>\n",
       "      <th>4</th>\n",
       "      <td>CASO-01-L1K4U4</td>\n",
       "      <td>W5Y</td>\n",
       "      <td>554</td>\n",
       "      <td>902093</td>\n",
       "      <td>1</td>\n",
       "      <td>IK6356601049</td>\n",
       "      <td>201</td>\n",
       "      <td>0</td>\n",
       "      <td>0</td>\n",
       "      <td>0</td>\n",
       "      <td>...</td>\n",
       "      <td>0</td>\n",
       "      <td>NaN</td>\n",
       "      <td>NaN</td>\n",
       "      <td>NaN</td>\n",
       "      <td>NaN</td>\n",
       "      <td>NaN</td>\n",
       "      <td>NaN</td>\n",
       "      <td>2</td>\n",
       "      <td>1</td>\n",
       "      <td>2017</td>\n",
       "    </tr>\n",
       "    <tr>\n",
       "      <th>...</th>\n",
       "      <td>...</td>\n",
       "      <td>...</td>\n",
       "      <td>...</td>\n",
       "      <td>...</td>\n",
       "      <td>...</td>\n",
       "      <td>...</td>\n",
       "      <td>...</td>\n",
       "      <td>...</td>\n",
       "      <td>...</td>\n",
       "      <td>...</td>\n",
       "      <td>...</td>\n",
       "      <td>...</td>\n",
       "      <td>...</td>\n",
       "      <td>...</td>\n",
       "      <td>...</td>\n",
       "      <td>...</td>\n",
       "      <td>...</td>\n",
       "      <td>...</td>\n",
       "      <td>...</td>\n",
       "      <td>...</td>\n",
       "      <td>...</td>\n",
       "    </tr>\n",
       "    <tr>\n",
       "      <th>138300</th>\n",
       "      <td>CASO-01-L1K4U4</td>\n",
       "      <td>O9A</td>\n",
       "      <td>490</td>\n",
       "      <td>296083</td>\n",
       "      <td>1</td>\n",
       "      <td>KO2307484082</td>\n",
       "      <td>206</td>\n",
       "      <td>0</td>\n",
       "      <td>0</td>\n",
       "      <td>0</td>\n",
       "      <td>...</td>\n",
       "      <td>490</td>\n",
       "      <td>296083.0</td>\n",
       "      <td>NaN</td>\n",
       "      <td>NaN</td>\n",
       "      <td>NaN</td>\n",
       "      <td>NaN</td>\n",
       "      <td>NaN</td>\n",
       "      <td>1</td>\n",
       "      <td>3</td>\n",
       "      <td>2021</td>\n",
       "    </tr>\n",
       "    <tr>\n",
       "      <th>138301</th>\n",
       "      <td>CASO-01-L1K4U4</td>\n",
       "      <td>O9A</td>\n",
       "      <td>490</td>\n",
       "      <td>296083</td>\n",
       "      <td>1</td>\n",
       "      <td>KO2307484082</td>\n",
       "      <td>102</td>\n",
       "      <td>0</td>\n",
       "      <td>0</td>\n",
       "      <td>0</td>\n",
       "      <td>...</td>\n",
       "      <td>0</td>\n",
       "      <td>NaN</td>\n",
       "      <td>NaN</td>\n",
       "      <td>NaN</td>\n",
       "      <td>NaN</td>\n",
       "      <td>NaN</td>\n",
       "      <td>NaN</td>\n",
       "      <td>1</td>\n",
       "      <td>3</td>\n",
       "      <td>2021</td>\n",
       "    </tr>\n",
       "    <tr>\n",
       "      <th>138302</th>\n",
       "      <td>CASO-01-L1K4U4</td>\n",
       "      <td>O9A</td>\n",
       "      <td>490</td>\n",
       "      <td>296083</td>\n",
       "      <td>2</td>\n",
       "      <td>KO2307484082</td>\n",
       "      <td>102</td>\n",
       "      <td>0</td>\n",
       "      <td>0</td>\n",
       "      <td>0</td>\n",
       "      <td>...</td>\n",
       "      <td>490</td>\n",
       "      <td>296083.0</td>\n",
       "      <td>NaN</td>\n",
       "      <td>NaN</td>\n",
       "      <td>NaN</td>\n",
       "      <td>NaN</td>\n",
       "      <td>NaN</td>\n",
       "      <td>1</td>\n",
       "      <td>3</td>\n",
       "      <td>2021</td>\n",
       "    </tr>\n",
       "    <tr>\n",
       "      <th>138303</th>\n",
       "      <td>CASO-01-L1K4U4</td>\n",
       "      <td>O6Y</td>\n",
       "      <td>5776</td>\n",
       "      <td>191834</td>\n",
       "      <td>1</td>\n",
       "      <td>KO2307484082</td>\n",
       "      <td>205</td>\n",
       "      <td>0</td>\n",
       "      <td>0</td>\n",
       "      <td>0</td>\n",
       "      <td>...</td>\n",
       "      <td>0</td>\n",
       "      <td>NaN</td>\n",
       "      <td>NaN</td>\n",
       "      <td>NaN</td>\n",
       "      <td>NaN</td>\n",
       "      <td>NaN</td>\n",
       "      <td>NaN</td>\n",
       "      <td>1</td>\n",
       "      <td>3</td>\n",
       "      <td>2021</td>\n",
       "    </tr>\n",
       "    <tr>\n",
       "      <th>138304</th>\n",
       "      <td>CASO-01-L1K4U4</td>\n",
       "      <td>O6Y</td>\n",
       "      <td>5776</td>\n",
       "      <td>191834</td>\n",
       "      <td>1</td>\n",
       "      <td>KO2307484082</td>\n",
       "      <td>205</td>\n",
       "      <td>0</td>\n",
       "      <td>0</td>\n",
       "      <td>0</td>\n",
       "      <td>...</td>\n",
       "      <td>0</td>\n",
       "      <td>NaN</td>\n",
       "      <td>NaN</td>\n",
       "      <td>NaN</td>\n",
       "      <td>NaN</td>\n",
       "      <td>NaN</td>\n",
       "      <td>NaN</td>\n",
       "      <td>1</td>\n",
       "      <td>3</td>\n",
       "      <td>2021</td>\n",
       "    </tr>\n",
       "  </tbody>\n",
       "</table>\n",
       "<p>138305 rows × 47 columns</p>\n",
       "</div>"
      ],
      "text/plain": [
       "           NUMERO_CASO NUMERO_BANCO  NUMERO_AGENCIA  NUMERO_CONTA  TIPO  \\\n",
       "0       CASO-01-L1K4U4          O6Y            1965        153602     2   \n",
       "1       CASO-01-L1K4U4          O6Y            1965        153602     2   \n",
       "2       CASO-01-L1K4U4          L6X             742        810886     2   \n",
       "3       CASO-01-L1K4U4          L6X             742        810886     2   \n",
       "4       CASO-01-L1K4U4          W5Y             554        902093     1   \n",
       "...                ...          ...             ...           ...   ...   \n",
       "138300  CASO-01-L1K4U4          O9A             490        296083     1   \n",
       "138301  CASO-01-L1K4U4          O9A             490        296083     1   \n",
       "138302  CASO-01-L1K4U4          O9A             490        296083     2   \n",
       "138303  CASO-01-L1K4U4          O6Y            5776        191834     1   \n",
       "138304  CASO-01-L1K4U4          O6Y            5776        191834     1   \n",
       "\n",
       "       CPF_CNPJ_TITULAR  CNAB  CNAB=101  CNAB=119  CNAB=120  ...  \\\n",
       "0          ZS9104223348   218         0         0         0  ...   \n",
       "1          ZS9104223348   218         0         0         0  ...   \n",
       "2          RJ3341718546   211         0         0         0  ...   \n",
       "3          RJ3341718546   211         0         0         0  ...   \n",
       "4          IK6356601049   201         0         0         0  ...   \n",
       "...                 ...   ...       ...       ...       ...  ...   \n",
       "138300     KO2307484082   206         0         0         0  ...   \n",
       "138301     KO2307484082   102         0         0         0  ...   \n",
       "138302     KO2307484082   102         0         0         0  ...   \n",
       "138303     KO2307484082   205         0         0         0  ...   \n",
       "138304     KO2307484082   205         0         0         0  ...   \n",
       "\n",
       "        NUMERO_AGENCIA_OD  NUMERO_CONTA_OD  I-a  I-b  I-c  I-d  I-e  \\\n",
       "0                       0              NaN  NaN  NaN  NaN  NaN  NaN   \n",
       "1                       0              NaN  NaN  NaN  NaN  NaN  NaN   \n",
       "2                      75              NaN  NaN  NaN  NaN  NaN  NaN   \n",
       "3                      75              NaN  NaN  NaN  NaN  NaN  NaN   \n",
       "4                       0              NaN  NaN  NaN  NaN  NaN  NaN   \n",
       "...                   ...              ...  ...  ...  ...  ...  ...   \n",
       "138300                490         296083.0  NaN  NaN  NaN  NaN  NaN   \n",
       "138301                  0              NaN  NaN  NaN  NaN  NaN  NaN   \n",
       "138302                490         296083.0  NaN  NaN  NaN  NaN  NaN   \n",
       "138303                  0              NaN  NaN  NaN  NaN  NaN  NaN   \n",
       "138304                  0              NaN  NaN  NaN  NaN  NaN  NaN   \n",
       "\n",
       "        DIA_LANCAMENTO  MES_LANCAMENTO  ANO_LANCAMENTO  \n",
       "0                    1               1            2017  \n",
       "1                    1               1            2017  \n",
       "2                    2               1            2017  \n",
       "3                    2               1            2017  \n",
       "4                    2               1            2017  \n",
       "...                ...             ...             ...  \n",
       "138300               1               3            2021  \n",
       "138301               1               3            2021  \n",
       "138302               1               3            2021  \n",
       "138303               1               3            2021  \n",
       "138304               1               3            2021  \n",
       "\n",
       "[138305 rows x 47 columns]"
      ]
     },
     "execution_count": 4,
     "metadata": {},
     "output_type": "execute_result"
    }
   ],
   "source": [
    "path = \"/data/pcpe_01.csv\"\n",
    "df = pd.read_csv(path, delimiter=';')\n",
    "df"
   ]
  },
  {
   "cell_type": "code",
   "execution_count": 5,
   "metadata": {},
   "outputs": [
    {
     "data": {
      "text/plain": [
       "array([[0.],\n",
       "       [0.],\n",
       "       [0.],\n",
       "       ...,\n",
       "       [0.],\n",
       "       [0.],\n",
       "       [0.]])"
      ]
     },
     "execution_count": 5,
     "metadata": {},
     "output_type": "execute_result"
    }
   ],
   "source": [
    "columns_num = [\n",
    "    'DIA_LANCAMENTO', \n",
    "    'MES_LANCAMENTO',\n",
    "    'VALOR_TRANSACAO',\n",
    "    'VALOR_SALDO',\n",
    "]\n",
    "\n",
    "columns_cat = [\n",
    "    'TIPO',\n",
    "    'CNAB',\n",
    "    'NATUREZA_SALDO'\n",
    "]\n",
    "\n",
    "target = ['I-d']\n",
    "y = df[target].values\n",
    "y = np.nan_to_num(y)\n",
    "y"
   ]
  },
  {
   "cell_type": "code",
   "execution_count": 6,
   "metadata": {},
   "outputs": [
    {
     "name": "stderr",
     "output_type": "stream",
     "text": [
      "2024-05-09 10:45:17.763465: I tensorflow/core/platform/cpu_feature_guard.cc:182] This TensorFlow binary is optimized to use available CPU instructions in performance-critical operations.\n",
      "To enable the following instructions: AVX2 FMA, in other operations, rebuild TensorFlow with the appropriate compiler flags.\n"
     ]
    }
   ],
   "source": [
    "from mlex import CompositeTranformer\n",
    "tranformer = CompositeTranformer(\n",
    "    numeric_features=columns_num,\n",
    "    categorical_features=columns_cat\n",
    ")\n",
    "Xt = tranformer.encoder.fit_transform(df)"
   ]
  },
  {
   "cell_type": "code",
   "execution_count": 7,
   "metadata": {},
   "outputs": [],
   "source": [
    "from mlex.utils.splits import PastFutureSplit\n",
    "\n",
    "split = PastFutureSplit()\n",
    "\n",
    "X_train, X_test, y_train, y_test = split.train_test_split(Xt,y)"
   ]
  },
  {
   "cell_type": "code",
   "execution_count": 8,
   "metadata": {},
   "outputs": [
    {
     "name": "stderr",
     "output_type": "stream",
     "text": [
      "2024-05-09 10:45:21.691093: E tensorflow/compiler/xla/stream_executor/cuda/cuda_driver.cc:266] failed call to cuInit: CUDA_ERROR_NO_DEVICE: no CUDA-capable device is detected\n",
      "2024-05-09 10:45:21.691136: I tensorflow/compiler/xla/stream_executor/cuda/cuda_diagnostics.cc:168] retrieving CUDA diagnostic information for host: a1c211f74e0b\n",
      "2024-05-09 10:45:21.691147: I tensorflow/compiler/xla/stream_executor/cuda/cuda_diagnostics.cc:175] hostname: a1c211f74e0b\n",
      "2024-05-09 10:45:21.691285: I tensorflow/compiler/xla/stream_executor/cuda/cuda_diagnostics.cc:199] libcuda reported version is: NOT_FOUND: was unable to find libcuda.so DSO loaded into this program\n",
      "2024-05-09 10:45:21.691319: I tensorflow/compiler/xla/stream_executor/cuda/cuda_diagnostics.cc:203] kernel reported version is: 530.30.2\n"
     ]
    }
   ],
   "source": [
    "from mlex import SequenceTransfomer\n",
    "p = SequenceTransfomer()\n",
    "X_train = np.array(X_train)\n",
    "y_train = np.array(y_train)\n",
    "data_train = p.transform(\n",
    "    X = X_train,\n",
    "    y = y_train\n",
    ")\n",
    "\n",
    "X_test = np.array(X_test)\n",
    "y_test = np.array(y_test)\n",
    "data_test = p.transform(\n",
    "    X = X_train,\n",
    "    y = y_train\n",
    ")\n",
    "\n",
    "\n",
    "\n"
   ]
  },
  {
   "cell_type": "code",
   "execution_count": 9,
   "metadata": {},
   "outputs": [],
   "source": [
    "import keras\n",
    "import keras.optimizers.adam"
   ]
  },
  {
   "cell_type": "code",
   "execution_count": 10,
   "metadata": {},
   "outputs": [
    {
     "data": {
      "text/plain": [
       "<keras.engine.sequential.Sequential at 0x7feb13855fa0>"
      ]
     },
     "execution_count": 10,
     "metadata": {},
     "output_type": "execute_result"
    }
   ],
   "source": [
    "from mlex.pipelines.simple_pipeline import SimplePipeline\n",
    "from mlex.models.models import SimpleRNNModel\n",
    "\n",
    "my_model = SimpleRNNModel(input_shape=Xt.shape)\n",
    "\n",
    "my_model.get_model()\n"
   ]
  },
  {
   "cell_type": "code",
   "execution_count": 11,
   "metadata": {},
   "outputs": [],
   "source": [
    "my_model.compile()"
   ]
  },
  {
   "cell_type": "code",
   "execution_count": 12,
   "metadata": {},
   "outputs": [
    {
     "name": "stdout",
     "output_type": "stream",
     "text": [
      "Model: \"sequential\"\n",
      "_________________________________________________________________\n",
      " Layer (type)                Output Shape              Param #   \n",
      "=================================================================\n",
      " simple_rnn (SimpleRNN)      (None, 138305, 16)        992       \n",
      "                                                                 \n",
      " simple_rnn_1 (SimpleRNN)    (None, 16)                528       \n",
      "                                                                 \n",
      " dense (Dense)               (None, 1)                 17        \n",
      "                                                                 \n",
      "=================================================================\n",
      "Total params: 1,537\n",
      "Trainable params: 1,537\n",
      "Non-trainable params: 0\n",
      "_________________________________________________________________\n"
     ]
    }
   ],
   "source": [
    "\n",
    "my_model.summary()"
   ]
  },
  {
   "cell_type": "code",
   "execution_count": 13,
   "metadata": {},
   "outputs": [
    {
     "name": "stdout",
     "output_type": "stream",
     "text": [
      "Epoch 1/10\n"
     ]
    },
    {
     "name": "stderr",
     "output_type": "stream",
     "text": [
      "2024-05-09 10:45:27.409741: I tensorflow/core/common_runtime/executor.cc:1197] [/device:CPU:0] (DEBUG INFO) Executor start aborting (this does not indicate an error and you can ignore this message): INVALID_ARGUMENT: You must feed a value for placeholder tensor 'Placeholder/_8' with dtype int32 and shape [69143]\n",
      "\t [[{{node Placeholder/_8}}]]\n",
      "2024-05-09 10:45:27.410468: I tensorflow/core/common_runtime/executor.cc:1197] [/device:CPU:0] (DEBUG INFO) Executor start aborting (this does not indicate an error and you can ignore this message): INVALID_ARGUMENT: You must feed a value for placeholder tensor 'Placeholder/_0' with dtype double and shape [69152,45]\n",
      "\t [[{{node Placeholder/_0}}]]\n"
     ]
    },
    {
     "name": "stdout",
     "output_type": "stream",
     "text": [
      "541/541 [==============================] - 3s 4ms/step - loss: 0.2954 - acc: 0.8899 - auc: 0.7807\n",
      "Epoch 2/10\n",
      "541/541 [==============================] - 1s 3ms/step - loss: 0.2535 - acc: 0.8985 - auc: 0.8588\n",
      "Epoch 3/10\n",
      "541/541 [==============================] - 2s 3ms/step - loss: 0.2403 - acc: 0.9022 - auc: 0.8771\n",
      "Epoch 4/10\n",
      "541/541 [==============================] - 1s 3ms/step - loss: 0.2311 - acc: 0.9063 - auc: 0.8879\n",
      "Epoch 5/10\n",
      "541/541 [==============================] - 2s 3ms/step - loss: 0.2244 - acc: 0.9097 - auc: 0.8947\n",
      "Epoch 6/10\n",
      "541/541 [==============================] - 2s 3ms/step - loss: 0.2175 - acc: 0.9132 - auc: 0.9018\n",
      "Epoch 7/10\n",
      "541/541 [==============================] - 1s 3ms/step - loss: 0.2097 - acc: 0.9170 - auc: 0.9093\n",
      "Epoch 8/10\n",
      "541/541 [==============================] - 1s 2ms/step - loss: 0.2039 - acc: 0.9199 - auc: 0.9141\n",
      "Epoch 9/10\n",
      "541/541 [==============================] - 1s 3ms/step - loss: 0.1992 - acc: 0.9227 - auc: 0.9184\n",
      "Epoch 10/10\n",
      "541/541 [==============================] - 2s 3ms/step - loss: 0.1965 - acc: 0.9228 - auc: 0.9212\n"
     ]
    }
   ],
   "source": [
    "history = my_model.fit(data_train)"
   ]
  },
  {
   "cell_type": "code",
   "execution_count": 14,
   "metadata": {},
   "outputs": [
    {
     "name": "stderr",
     "output_type": "stream",
     "text": [
      "2024-05-09 10:45:45.070545: I tensorflow/core/common_runtime/executor.cc:1197] [/device:CPU:0] (DEBUG INFO) Executor start aborting (this does not indicate an error and you can ignore this message): INVALID_ARGUMENT: You must feed a value for placeholder tensor 'Placeholder/_8' with dtype int32 and shape [69143]\n",
      "\t [[{{node Placeholder/_8}}]]\n",
      "2024-05-09 10:45:45.071386: I tensorflow/core/common_runtime/executor.cc:1197] [/device:CPU:0] (DEBUG INFO) Executor start aborting (this does not indicate an error and you can ignore this message): INVALID_ARGUMENT: You must feed a value for placeholder tensor 'Placeholder/_8' with dtype int32 and shape [69143]\n",
      "\t [[{{node Placeholder/_8}}]]\n"
     ]
    },
    {
     "name": "stdout",
     "output_type": "stream",
     "text": [
      "541/541 [==============================] - 2s 3ms/step\n"
     ]
    }
   ],
   "source": [
    "y_pred = my_model.predict(data_test)"
   ]
  },
  {
   "cell_type": "code",
   "execution_count": 15,
   "metadata": {},
   "outputs": [
    {
     "data": {
      "text/plain": [
       "0.7575871586799621"
      ]
     },
     "execution_count": 15,
     "metadata": {},
     "output_type": "execute_result"
    }
   ],
   "source": [
    "np.quantile(y_pred, 0.95)"
   ]
  }
 ],
 "metadata": {
  "kernelspec": {
   "display_name": "Python 3",
   "language": "python",
   "name": "python3"
  },
  "language_info": {
   "codemirror_mode": {
    "name": "ipython",
    "version": 3
   },
   "file_extension": ".py",
   "mimetype": "text/x-python",
   "name": "python",
   "nbconvert_exporter": "python",
   "pygments_lexer": "ipython3",
   "version": "3.8.10"
  }
 },
 "nbformat": 4,
 "nbformat_minor": 2
}
