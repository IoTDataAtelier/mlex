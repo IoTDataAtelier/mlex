{
 "cells": [
  {
   "cell_type": "code",
   "execution_count": 1,
   "metadata": {},
   "outputs": [],
   "source": [
    "%load_ext autoreload\n",
    "%autoreload 2"
   ]
  },
  {
   "cell_type": "code",
   "execution_count": 2,
   "metadata": {},
   "outputs": [],
   "source": [
    "import os\n",
    "import sys\n",
    "import pandas as pd\n",
    "import numpy as np"
   ]
  },
  {
   "cell_type": "code",
   "execution_count": 3,
   "metadata": {},
   "outputs": [],
   "source": [
    "module_path = os.path.abspath(os.path.join('..'))\n",
    "if module_path not in sys.path:\n",
    "    sys.path.append(module_path)\n"
   ]
  },
  {
   "cell_type": "code",
   "execution_count": 4,
   "metadata": {},
   "outputs": [
    {
     "name": "stderr",
     "output_type": "stream",
     "text": [
      "2024-05-31 19:33:36.297236: I tensorflow/core/platform/cpu_feature_guard.cc:182] This TensorFlow binary is optimized to use available CPU instructions in performance-critical operations.\n",
      "To enable the following instructions: AVX2 FMA, in other operations, rebuild TensorFlow with the appropriate compiler flags.\n"
     ]
    },
    {
     "ename": "TypeError",
     "evalue": "__init__() got an unexpected keyword argument 'numeric_features'",
     "output_type": "error",
     "traceback": [
      "\u001b[0;31m---------------------------------------------------------------------------\u001b[0m",
      "\u001b[0;31mTypeError\u001b[0m                                 Traceback (most recent call last)",
      "Cell \u001b[0;32mIn[4], line 41\u001b[0m\n\u001b[1;32m     38\u001b[0m array \u001b[38;5;241m=\u001b[39m [final_model_rnn,final_model_lstm,final_model_gru]\n\u001b[1;32m     40\u001b[0m \u001b[38;5;28;01mfor\u001b[39;00m model \u001b[38;5;129;01min\u001b[39;00m array:     \n\u001b[0;32m---> 41\u001b[0m     pipe \u001b[38;5;241m=\u001b[39m \u001b[43mSimplePipeline\u001b[49m\u001b[43m(\u001b[49m\n\u001b[1;32m     42\u001b[0m \u001b[43m        \u001b[49m\u001b[43mnumeric_features\u001b[49m\u001b[43m \u001b[49m\u001b[38;5;241;43m=\u001b[39;49m\u001b[43m \u001b[49m\u001b[43mcolumns_num\u001b[49m\u001b[43m,\u001b[49m\u001b[43m \u001b[49m\n\u001b[1;32m     43\u001b[0m \u001b[43m        \u001b[49m\u001b[43mcategorical_features\u001b[49m\u001b[43m \u001b[49m\u001b[38;5;241;43m=\u001b[39;49m\u001b[43m \u001b[49m\u001b[43mcolumns_cat\u001b[49m\u001b[43m,\u001b[49m\n\u001b[1;32m     44\u001b[0m \u001b[43m        \u001b[49m\u001b[43mX\u001b[49m\u001b[43m \u001b[49m\u001b[38;5;241;43m=\u001b[39;49m\u001b[43m \u001b[49m\u001b[43mdf\u001b[49m\u001b[43m,\u001b[49m\n\u001b[1;32m     45\u001b[0m \u001b[43m        \u001b[49m\u001b[43my\u001b[49m\u001b[43m \u001b[49m\u001b[38;5;241;43m=\u001b[39;49m\u001b[43m \u001b[49m\u001b[43my\u001b[49m\u001b[43m,\u001b[49m\n\u001b[1;32m     46\u001b[0m \u001b[43m        \u001b[49m\u001b[43mfinal_model\u001b[49m\u001b[38;5;241;43m=\u001b[39;49m\u001b[43mmodel\u001b[49m\n\u001b[1;32m     47\u001b[0m \u001b[43m)\u001b[49m        \n",
      "\u001b[0;31mTypeError\u001b[0m: __init__() got an unexpected keyword argument 'numeric_features'"
     ]
    }
   ],
   "source": [
    "from mlex import (\n",
    "    PastFutureSplit,\n",
    "    SimplePipeline,\n",
    "    SimpleRNNModel,\n",
    "    SimpleLSTMModel,\n",
    "    SimpleGruModel,\n",
    "\n",
    ")\n",
    "\n",
    "\n",
    "\n",
    "path = \"/data/pcpe_01.csv\"\n",
    "obj = PastFutureSplit()\n",
    "df = obj.csv_extraction(path=path)\n",
    "\n",
    "columns_num = [\n",
    "    'DIA_LANCAMENTO', \n",
    "    'MES_LANCAMENTO',\n",
    "    'VALOR_TRANSACAO',\n",
    "    'VALOR_SALDO',\n",
    "]\n",
    "\n",
    "columns_cat = [\n",
    "    'TIPO',\n",
    "    'CNAB',\n",
    "    'NATUREZA_SALDO'\n",
    "]\n",
    "        \n",
    "target = ['I-d']\n",
    "y = df[target].values\n",
    "y = np.nan_to_num(y)\n",
    "\n",
    "\n",
    "final_model_rnn = SimpleRNNModel(input_shape=(138305,45))\n",
    "final_model_lstm = SimpleLSTMModel(input_shape=(138305,45))\n",
    "final_model_gru = SimpleGruModel(input_shape=(138305,45))\n",
    "\n",
    "array = [final_model_rnn,final_model_lstm,final_model_gru]\n",
    "\n",
    "for model in array:     \n",
    "    pipe = SimplePipeline(\n",
    "        numeric_features = columns_num, \n",
    "        categorical_features = columns_cat,\n",
    "        X = df,\n",
    "        y = y,\n",
    "        final_model=model\n",
    ")        "
   ]
  }
 ],
 "metadata": {
  "kernelspec": {
   "display_name": "Python 3",
   "language": "python",
   "name": "python3"
  },
  "language_info": {
   "codemirror_mode": {
    "name": "ipython",
    "version": 3
   },
   "file_extension": ".py",
   "mimetype": "text/x-python",
   "name": "python",
   "nbconvert_exporter": "python",
   "pygments_lexer": "ipython3",
   "version": "3.8.10"
  }
 },
 "nbformat": 4,
 "nbformat_minor": 2
}
