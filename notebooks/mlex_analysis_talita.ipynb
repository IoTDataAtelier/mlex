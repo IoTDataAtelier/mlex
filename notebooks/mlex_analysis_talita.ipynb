{
 "cells": [
  {
   "cell_type": "code",
   "execution_count": 1,
   "metadata": {},
   "outputs": [],
   "source": [
    "%load_ext autoreload\n",
    "%autoreload 2"
   ]
  },
  {
   "cell_type": "code",
   "execution_count": 9,
   "metadata": {},
   "outputs": [],
   "source": [
    "import os\n",
    "import sys\n",
    "module_path = os.path.abspath(os.path.join('..'))\n",
    "if module_path not in sys.path:\n",
    "    sys.path.append(module_path)"
   ]
  },
  {
   "cell_type": "code",
   "execution_count": 3,
   "metadata": {},
   "outputs": [],
   "source": [
    "path = \"/data/pcpe_01.csv\""
   ]
  },
  {
   "cell_type": "code",
   "execution_count": 4,
   "metadata": {},
   "outputs": [
    {
     "name": "stderr",
     "output_type": "stream",
     "text": [
      "2024-05-08 14:27:06.517570: I tensorflow/core/platform/cpu_feature_guard.cc:182] This TensorFlow binary is optimized to use available CPU instructions in performance-critical operations.\n",
      "To enable the following instructions: AVX2 FMA, in other operations, rebuild TensorFlow with the appropriate compiler flags.\n"
     ]
    }
   ],
   "source": [
    "import pandas as pd\n",
    "import numpy as np\n",
    "import keras\n",
    "import keras.optimizers.adam\n",
    "import tensorflow as tf"
   ]
  },
  {
   "cell_type": "code",
   "execution_count": 5,
   "metadata": {},
   "outputs": [],
   "source": [
    "df = pd.read_csv(path, delimiter=';')"
   ]
  },
  {
   "cell_type": "code",
   "execution_count": 8,
   "metadata": {},
   "outputs": [
    {
     "data": {
      "text/plain": [
       "CNAB\n",
       "213    24003\n",
       "201    23420\n",
       "117    13200\n",
       "218    10994\n",
       "105    10472\n",
       "114    10095\n",
       "209     8420\n",
       "104     7459\n",
       "120     6466\n",
       "205     5028\n",
       "112     4722\n",
       "206     4498\n",
       "102     2354\n",
       "101     1775\n",
       "106     1751\n",
       "220      755\n",
       "204      713\n",
       "217      404\n",
       "219      340\n",
       "123      216\n",
       "103      154\n",
       "202      150\n",
       "118      135\n",
       "211      128\n",
       "110      118\n",
       "107      110\n",
       "999       93\n",
       "215       92\n",
       "203       87\n",
       "113       68\n",
       "214       32\n",
       "119       25\n",
       "207       18\n",
       "212        7\n",
       "111        2\n",
       "115        1\n",
       "Name: count, dtype: int64"
      ]
     },
     "execution_count": 8,
     "metadata": {},
     "output_type": "execute_result"
    }
   ],
   "source": [
    "df['CNAB'].value_counts()"
   ]
  },
  {
   "cell_type": "code",
   "execution_count": 12,
   "metadata": {},
   "outputs": [
    {
     "name": "stdout",
     "output_type": "stream",
     "text": [
      "NUMERO_CASO             object\n",
      "NUMERO_BANCO            object\n",
      "NUMERO_AGENCIA           int64\n",
      "NUMERO_CONTA             int64\n",
      "TIPO                     int64\n",
      "CPF_CNPJ_TITULAR        object\n",
      "CNAB                     int64\n",
      "CNAB=101                 int64\n",
      "CNAB=119                 int64\n",
      "CNAB=120                 int64\n",
      "CNAB=123                 int64\n",
      "CNAB=201                 int64\n",
      "CNAB=202                 int64\n",
      "CNAB=203                 int64\n",
      "CNAB=204                 int64\n",
      "CNAB=205                 int64\n",
      "CNAB=206                 int64\n",
      "CNAB=207                 int64\n",
      "CNAB=209                 int64\n",
      "CNAB=211                 int64\n",
      "CNAB=212                 int64\n",
      "CNAB=213                 int64\n",
      "CNAB=214                 int64\n",
      "CNAB=215                 int64\n",
      "CNAB=217                 int64\n",
      "CNAB=218                 int64\n",
      "CNAB=219                 int64\n",
      "CNAB=220                 int64\n",
      "CNAB=999                 int64\n",
      "DATA_LANCAMENTO         object\n",
      "NUMERO_DOCUMENTO        object\n",
      "VALOR_TRANSACAO        float64\n",
      "NATUREZA_LANCAMENTO     object\n",
      "VALOR_SALDO            float64\n",
      "NATUREZA_SALDO          object\n",
      "CPF_CNPJ_OD             object\n",
      "NUMERO_BANCO_OD         object\n",
      "NUMERO_AGENCIA_OD        int64\n",
      "NUMERO_CONTA_OD        float64\n",
      "I-a                    float64\n",
      "I-b                    float64\n",
      "I-c                    float64\n",
      "I-d                    float64\n",
      "I-e                    float64\n",
      "DIA_LANCAMENTO           int64\n",
      "MES_LANCAMENTO           int64\n",
      "ANO_LANCAMENTO           int64\n",
      "dtype: object\n"
     ]
    }
   ],
   "source": [
    "print(df.dtypes)"
   ]
  },
  {
   "cell_type": "code",
   "execution_count": 13,
   "metadata": {},
   "outputs": [],
   "source": [
    "columns_num = [\n",
    "    'DIA_LANCAMENTO', \n",
    "    'MES_LANCAMENTO',\n",
    "    'VALOR_TRANSACAO',\n",
    "    'VALOR_SALDO',\n",
    "]\n",
    "\n",
    "columns_cat = [\n",
    "    'TIPO',\n",
    "    'CNAB',\n",
    "    'NATUREZA_SALDO'\n",
    "]\n",
    "\n",
    "target = ['I-a']\n",
    "y = df[target].values\n",
    "y = np.nan_to_num(y)\n"
   ]
  },
  {
   "cell_type": "code",
   "execution_count": 14,
   "metadata": {},
   "outputs": [
    {
     "data": {
      "text/html": [
       "<div>\n",
       "<style scoped>\n",
       "    .dataframe tbody tr th:only-of-type {\n",
       "        vertical-align: middle;\n",
       "    }\n",
       "\n",
       "    .dataframe tbody tr th {\n",
       "        vertical-align: top;\n",
       "    }\n",
       "\n",
       "    .dataframe thead th {\n",
       "        text-align: right;\n",
       "    }\n",
       "</style>\n",
       "<table border=\"1\" class=\"dataframe\">\n",
       "  <thead>\n",
       "    <tr style=\"text-align: right;\">\n",
       "      <th></th>\n",
       "      <th>DIA_LANCAMENTO</th>\n",
       "      <th>MES_LANCAMENTO</th>\n",
       "      <th>VALOR_TRANSACAO</th>\n",
       "      <th>VALOR_SALDO</th>\n",
       "    </tr>\n",
       "  </thead>\n",
       "  <tbody>\n",
       "    <tr>\n",
       "      <th>0</th>\n",
       "      <td>1</td>\n",
       "      <td>1</td>\n",
       "      <td>0.15</td>\n",
       "      <td>86.76</td>\n",
       "    </tr>\n",
       "    <tr>\n",
       "      <th>1</th>\n",
       "      <td>1</td>\n",
       "      <td>1</td>\n",
       "      <td>0.40</td>\n",
       "      <td>87.16</td>\n",
       "    </tr>\n",
       "    <tr>\n",
       "      <th>2</th>\n",
       "      <td>2</td>\n",
       "      <td>1</td>\n",
       "      <td>0.06</td>\n",
       "      <td>718.27</td>\n",
       "    </tr>\n",
       "    <tr>\n",
       "      <th>3</th>\n",
       "      <td>2</td>\n",
       "      <td>1</td>\n",
       "      <td>0.02</td>\n",
       "      <td>718.29</td>\n",
       "    </tr>\n",
       "    <tr>\n",
       "      <th>4</th>\n",
       "      <td>2</td>\n",
       "      <td>1</td>\n",
       "      <td>6573.30</td>\n",
       "      <td>6573.30</td>\n",
       "    </tr>\n",
       "    <tr>\n",
       "      <th>...</th>\n",
       "      <td>...</td>\n",
       "      <td>...</td>\n",
       "      <td>...</td>\n",
       "      <td>...</td>\n",
       "    </tr>\n",
       "    <tr>\n",
       "      <th>138300</th>\n",
       "      <td>1</td>\n",
       "      <td>3</td>\n",
       "      <td>2.39</td>\n",
       "      <td>3.39</td>\n",
       "    </tr>\n",
       "    <tr>\n",
       "      <th>138301</th>\n",
       "      <td>1</td>\n",
       "      <td>3</td>\n",
       "      <td>2.39</td>\n",
       "      <td>1.00</td>\n",
       "    </tr>\n",
       "    <tr>\n",
       "      <th>138302</th>\n",
       "      <td>1</td>\n",
       "      <td>3</td>\n",
       "      <td>2.39</td>\n",
       "      <td>115.24</td>\n",
       "    </tr>\n",
       "    <tr>\n",
       "      <th>138303</th>\n",
       "      <td>1</td>\n",
       "      <td>3</td>\n",
       "      <td>0.00</td>\n",
       "      <td>1.88</td>\n",
       "    </tr>\n",
       "    <tr>\n",
       "      <th>138304</th>\n",
       "      <td>1</td>\n",
       "      <td>3</td>\n",
       "      <td>0.00</td>\n",
       "      <td>1.88</td>\n",
       "    </tr>\n",
       "  </tbody>\n",
       "</table>\n",
       "<p>138305 rows × 4 columns</p>\n",
       "</div>"
      ],
      "text/plain": [
       "        DIA_LANCAMENTO  MES_LANCAMENTO  VALOR_TRANSACAO  VALOR_SALDO\n",
       "0                    1               1             0.15        86.76\n",
       "1                    1               1             0.40        87.16\n",
       "2                    2               1             0.06       718.27\n",
       "3                    2               1             0.02       718.29\n",
       "4                    2               1          6573.30      6573.30\n",
       "...                ...             ...              ...          ...\n",
       "138300               1               3             2.39         3.39\n",
       "138301               1               3             2.39         1.00\n",
       "138302               1               3             2.39       115.24\n",
       "138303               1               3             0.00         1.88\n",
       "138304               1               3             0.00         1.88\n",
       "\n",
       "[138305 rows x 4 columns]"
      ]
     },
     "execution_count": 14,
     "metadata": {},
     "output_type": "execute_result"
    }
   ],
   "source": [
    "df[columns_num]"
   ]
  },
  {
   "cell_type": "code",
   "execution_count": 15,
   "metadata": {},
   "outputs": [
    {
     "data": {
      "text/html": [
       "<div>\n",
       "<style scoped>\n",
       "    .dataframe tbody tr th:only-of-type {\n",
       "        vertical-align: middle;\n",
       "    }\n",
       "\n",
       "    .dataframe tbody tr th {\n",
       "        vertical-align: top;\n",
       "    }\n",
       "\n",
       "    .dataframe thead th {\n",
       "        text-align: right;\n",
       "    }\n",
       "</style>\n",
       "<table border=\"1\" class=\"dataframe\">\n",
       "  <thead>\n",
       "    <tr style=\"text-align: right;\">\n",
       "      <th></th>\n",
       "      <th>TIPO</th>\n",
       "      <th>CNAB</th>\n",
       "      <th>NATUREZA_SALDO</th>\n",
       "    </tr>\n",
       "  </thead>\n",
       "  <tbody>\n",
       "    <tr>\n",
       "      <th>0</th>\n",
       "      <td>2</td>\n",
       "      <td>218</td>\n",
       "      <td>C</td>\n",
       "    </tr>\n",
       "    <tr>\n",
       "      <th>1</th>\n",
       "      <td>2</td>\n",
       "      <td>218</td>\n",
       "      <td>C</td>\n",
       "    </tr>\n",
       "    <tr>\n",
       "      <th>2</th>\n",
       "      <td>2</td>\n",
       "      <td>211</td>\n",
       "      <td>C</td>\n",
       "    </tr>\n",
       "    <tr>\n",
       "      <th>3</th>\n",
       "      <td>2</td>\n",
       "      <td>211</td>\n",
       "      <td>C</td>\n",
       "    </tr>\n",
       "    <tr>\n",
       "      <th>4</th>\n",
       "      <td>1</td>\n",
       "      <td>201</td>\n",
       "      <td>C</td>\n",
       "    </tr>\n",
       "    <tr>\n",
       "      <th>...</th>\n",
       "      <td>...</td>\n",
       "      <td>...</td>\n",
       "      <td>...</td>\n",
       "    </tr>\n",
       "    <tr>\n",
       "      <th>138300</th>\n",
       "      <td>1</td>\n",
       "      <td>206</td>\n",
       "      <td>C</td>\n",
       "    </tr>\n",
       "    <tr>\n",
       "      <th>138301</th>\n",
       "      <td>1</td>\n",
       "      <td>102</td>\n",
       "      <td>C</td>\n",
       "    </tr>\n",
       "    <tr>\n",
       "      <th>138302</th>\n",
       "      <td>2</td>\n",
       "      <td>102</td>\n",
       "      <td>C</td>\n",
       "    </tr>\n",
       "    <tr>\n",
       "      <th>138303</th>\n",
       "      <td>1</td>\n",
       "      <td>205</td>\n",
       "      <td>C</td>\n",
       "    </tr>\n",
       "    <tr>\n",
       "      <th>138304</th>\n",
       "      <td>1</td>\n",
       "      <td>205</td>\n",
       "      <td>C</td>\n",
       "    </tr>\n",
       "  </tbody>\n",
       "</table>\n",
       "<p>138305 rows × 3 columns</p>\n",
       "</div>"
      ],
      "text/plain": [
       "        TIPO  CNAB NATUREZA_SALDO\n",
       "0          2   218              C\n",
       "1          2   218              C\n",
       "2          2   211              C\n",
       "3          2   211              C\n",
       "4          1   201              C\n",
       "...      ...   ...            ...\n",
       "138300     1   206              C\n",
       "138301     1   102              C\n",
       "138302     2   102              C\n",
       "138303     1   205              C\n",
       "138304     1   205              C\n",
       "\n",
       "[138305 rows x 3 columns]"
      ]
     },
     "execution_count": 15,
     "metadata": {},
     "output_type": "execute_result"
    }
   ],
   "source": [
    "df[columns_cat]"
   ]
  },
  {
   "cell_type": "code",
   "execution_count": 16,
   "metadata": {},
   "outputs": [
    {
     "data": {
      "text/plain": [
       "array([[0.00000000e+00, 0.00000000e+00, 7.50000000e-08, 3.70279998e-05],\n",
       "       [0.00000000e+00, 0.00000000e+00, 2.00000000e-07, 3.71987144e-05],\n",
       "       [3.33333333e-02, 0.00000000e+00, 3.00000000e-08, 3.06547964e-04],\n",
       "       ...,\n",
       "       [0.00000000e+00, 1.81818182e-01, 1.19500000e-06, 4.91828803e-05],\n",
       "       [0.00000000e+00, 1.81818182e-01, 0.00000000e+00, 8.02358685e-07],\n",
       "       [0.00000000e+00, 1.81818182e-01, 0.00000000e+00, 8.02358685e-07]])"
      ]
     },
     "execution_count": 16,
     "metadata": {},
     "output_type": "execute_result"
    }
   ],
   "source": [
    "from sklearn.preprocessing import MinMaxScaler\n",
    "\n",
    "scaler = MinMaxScaler()\n",
    "\n",
    "X_num = scaler.fit_transform(df[columns_num])\n",
    "\n",
    "X_num"
   ]
  },
  {
   "cell_type": "code",
   "execution_count": 17,
   "metadata": {},
   "outputs": [],
   "source": [
    "X = np.column_stack([X_num, df[columns_cat]])"
   ]
  },
  {
   "cell_type": "code",
   "execution_count": 21,
   "metadata": {},
   "outputs": [],
   "source": [
    "mid = 60000\n",
    "X_train = X[:mid]\n",
    "y_train = y[:mid]\n",
    "X_test = X[mid:138305]\n",
    "y_test = y[mid:138305]"
   ]
  },
  {
   "cell_type": "code",
   "execution_count": 22,
   "metadata": {},
   "outputs": [],
   "source": [
    "max_features = np.max(df['CNAB']) + 1\n",
    "sequence_length = 10 \n",
    "batch_size = 128"
   ]
  },
  {
   "cell_type": "code",
   "execution_count": null,
   "metadata": {},
   "outputs": [],
   "source": [
    "data_train = tf.keras.utils.timeseries_dataset_from_array(\n",
    "    X_train[:-sequence_length],\n",
    "    y_train[sequence_length:],\n",
    "    sequence_length=sequence_length,\n",
    "    sequence_stride=1,\n",
    "    sampling_rate=1,\n",
    "    batch_size=batch_size,\n",
    "    shuffle=False,\n",
    "    seed=None,\n",
    "    start_index=None,\n",
    "    end_index=None,\n",
    ")"
   ]
  },
  {
   "cell_type": "code",
   "execution_count": null,
   "metadata": {},
   "outputs": [],
   "source": [
    "data_test = tf.keras.utils.timeseries_dataset_from_array(\n",
    "    X_test[:-sequence_length],\n",
    "    y_test[sequence_length:],\n",
    "    sequence_length=sequence_length,\n",
    "    sequence_stride=1,\n",
    "    sampling_rate=1,\n",
    "    batch_size=batch_size,\n",
    "    shuffle=False,\n",
    "    seed=None,\n",
    "    start_index=None,\n",
    "    end_index=None,\n",
    ")"
   ]
  },
  {
   "cell_type": "code",
   "execution_count": null,
   "metadata": {},
   "outputs": [],
   "source": [
    "model = keras.models.Sequential([\n",
    "    keras.layers.Embedding(max_features, batch_size, input_length=sequence_length),\n",
    "    keras.layers.LSTM(16,  return_sequences=True, input_shape=[None, X.shape[-1]]),\n",
    "    keras.layers.LSTM(16, ),\n",
    "    keras.layers.Dense(1, activation='sigmoid')\n",
    "])"
   ]
  },
  {
   "cell_type": "code",
   "execution_count": null,
   "metadata": {},
   "outputs": [],
   "source": [
    "model.build()\n",
    "model.compile(loss='binary_crossentropy',\n",
    "              optimizer='rmsprop',\n",
    "              metrics=['acc', tf.keras.metrics.AUC()])\n",
    "model.summary()"
   ]
  },
  {
   "cell_type": "code",
   "execution_count": null,
   "metadata": {},
   "outputs": [],
   "source": [
    "history = model.fit(data_train, epochs=10)"
   ]
  },
  {
   "cell_type": "code",
   "execution_count": null,
   "metadata": {},
   "outputs": [],
   "source": [
    "y_pred = model.predict(data_test)"
   ]
  }
 ],
 "metadata": {
  "kernelspec": {
   "display_name": "Python 3",
   "language": "python",
   "name": "python3"
  },
  "language_info": {
   "codemirror_mode": {
    "name": "ipython",
    "version": 3
   },
   "file_extension": ".py",
   "mimetype": "text/x-python",
   "name": "python",
   "nbconvert_exporter": "python",
   "pygments_lexer": "ipython3",
   "version": "3.8.10"
  }
 },
 "nbformat": 4,
 "nbformat_minor": 2
}
